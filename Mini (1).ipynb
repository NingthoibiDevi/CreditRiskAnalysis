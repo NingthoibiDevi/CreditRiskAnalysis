{
 "cells": [
  {
   "cell_type": "code",
   "execution_count": 0,
   "metadata": {
    "colab": {
     "base_uri": "https://localhost:8080/",
     "height": 71
    },
    "colab_type": "code",
    "executionInfo": {
     "elapsed": 2410,
     "status": "ok",
     "timestamp": 1590990741655,
     "user": {
      "displayName": "Ningthoibi Devi",
      "photoUrl": "",
      "userId": "03298143199062643316"
     },
     "user_tz": -330
    },
    "id": "V9ZnQ70-x1Cz",
    "outputId": "d8637183-1787-4a47-9277-51853edc361f"
   },
   "outputs": [
    {
     "name": "stderr",
     "output_type": "stream",
     "text": [
      "/usr/local/lib/python3.6/dist-packages/statsmodels/tools/_testing.py:19: FutureWarning: pandas.util.testing is deprecated. Use the functions in the public API at pandas.testing instead.\n",
      "  import pandas.util.testing as tm\n"
     ]
    }
   ],
   "source": [
    "import pandas as pd\n",
    "import numpy as np\n",
    "from sklearn.impute import SimpleImputer\n",
    "from sklearn.preprocessing import OneHotEncoder\n",
    "import matplotlib.pyplot as plt\n",
    "import seaborn as sns\n",
    "%matplotlib inline"
   ]
  },
  {
   "cell_type": "code",
   "execution_count": 0,
   "metadata": {
    "colab": {},
    "colab_type": "code",
    "id": "2SZJH6p28jPA"
   },
   "outputs": [],
   "source": [
    "!pip install -U -q PyDrive\n",
    "from pydrive.auth import GoogleAuth\n",
    "from pydrive.drive import GoogleDrive\n",
    "from google.colab import auth\n",
    "from oauth2client.client import GoogleCredentials\n",
    "# Authenticate and create the PyDrive client.\n",
    "auth.authenticate_user()\n",
    "gauth = GoogleAuth()\n",
    "gauth.credentials = GoogleCredentials.get_application_default()\n",
    "drive = GoogleDrive(gauth)"
   ]
  },
  {
   "cell_type": "code",
   "execution_count": 0,
   "metadata": {
    "colab": {},
    "colab_type": "code",
    "id": "twrTtE4GrgHO"
   },
   "outputs": [],
   "source": [
    "link='https://drive.google.com/open?id=14UD4Pq4lPkaYEgJi9OlHe83F1alUR_Ey'"
   ]
  },
  {
   "cell_type": "code",
   "execution_count": 0,
   "metadata": {
    "colab": {
     "base_uri": "https://localhost:8080/",
     "height": 34
    },
    "colab_type": "code",
    "executionInfo": {
     "elapsed": 6768,
     "status": "ok",
     "timestamp": 1590990746055,
     "user": {
      "displayName": "Ningthoibi Devi",
      "photoUrl": "",
      "userId": "03298143199062643316"
     },
     "user_tz": -330
    },
    "id": "-QCnhLOGr-wB",
    "outputId": "1ba6b0ef-cf50-4c2e-a2d2-4563388e3f3b"
   },
   "outputs": [
    {
     "name": "stdout",
     "output_type": "stream",
     "text": [
      "14UD4Pq4lPkaYEgJi9OlHe83F1alUR_Ey\n"
     ]
    }
   ],
   "source": [
    "fluff, id = link.split('=')\n",
    "print (id)"
   ]
  },
  {
   "cell_type": "code",
   "execution_count": 0,
   "metadata": {
    "colab": {
     "base_uri": "https://localhost:8080/",
     "height": 71
    },
    "colab_type": "code",
    "executionInfo": {
     "elapsed": 23643,
     "status": "ok",
     "timestamp": 1590990762956,
     "user": {
      "displayName": "Ningthoibi Devi",
      "photoUrl": "",
      "userId": "03298143199062643316"
     },
     "user_tz": -330
    },
    "id": "nH5z1hkxsDfH",
    "outputId": "57833629-aa10-4d05-ba48-02b6af37d950"
   },
   "outputs": [
    {
     "name": "stderr",
     "output_type": "stream",
     "text": [
      "/usr/local/lib/python3.6/dist-packages/IPython/core/interactiveshell.py:2718: DtypeWarning: Columns (18,54) have mixed types.Specify dtype option on import or set low_memory=False.\n",
      "  interactivity=interactivity, compiler=compiler, result=result)\n"
     ]
    }
   ],
   "source": [
    "downloaded = drive.CreateFile({'id':id}) \n",
    "downloaded.GetContentFile('loan.csv')  \n",
    "data = pd.read_csv('loan.csv')"
   ]
  },
  {
   "cell_type": "code",
   "execution_count": 0,
   "metadata": {
    "colab": {
     "base_uri": "https://localhost:8080/",
     "height": 666
    },
    "colab_type": "code",
    "executionInfo": {
     "elapsed": 23593,
     "status": "ok",
     "timestamp": 1590990762958,
     "user": {
      "displayName": "Ningthoibi Devi",
      "photoUrl": "",
      "userId": "03298143199062643316"
     },
     "user_tz": -330
    },
    "id": "LoQ48pp3m2Uv",
    "outputId": "cfa1aa5d-57d2-4104-e389-ddbd1839dc40"
   },
   "outputs": [
    {
     "data": {
      "text/html": [
       "<div>\n",
       "<style scoped>\n",
       "    .dataframe tbody tr th:only-of-type {\n",
       "        vertical-align: middle;\n",
       "    }\n",
       "\n",
       "    .dataframe tbody tr th {\n",
       "        vertical-align: top;\n",
       "    }\n",
       "\n",
       "    .dataframe thead th {\n",
       "        text-align: right;\n",
       "    }\n",
       "</style>\n",
       "<table border=\"1\" class=\"dataframe\">\n",
       "  <thead>\n",
       "    <tr style=\"text-align: right;\">\n",
       "      <th></th>\n",
       "      <th>id</th>\n",
       "      <th>member_id</th>\n",
       "      <th>loan_amnt</th>\n",
       "      <th>funded_amnt</th>\n",
       "      <th>funded_amnt_inv</th>\n",
       "      <th>term</th>\n",
       "      <th>int_rate</th>\n",
       "      <th>installment</th>\n",
       "      <th>grade</th>\n",
       "      <th>sub_grade</th>\n",
       "      <th>emp_title</th>\n",
       "      <th>emp_length</th>\n",
       "      <th>home_ownership</th>\n",
       "      <th>annual_inc</th>\n",
       "      <th>verification_status</th>\n",
       "      <th>issue_d</th>\n",
       "      <th>pymnt_plan</th>\n",
       "      <th>url</th>\n",
       "      <th>desc</th>\n",
       "      <th>purpose</th>\n",
       "      <th>title</th>\n",
       "      <th>zip_code</th>\n",
       "      <th>addr_state</th>\n",
       "      <th>dti</th>\n",
       "      <th>delinq_2yrs</th>\n",
       "      <th>earliest_cr_line</th>\n",
       "      <th>inq_last_6mths</th>\n",
       "      <th>mths_since_last_delinq</th>\n",
       "      <th>mths_since_last_record</th>\n",
       "      <th>open_acc</th>\n",
       "      <th>pub_rec</th>\n",
       "      <th>revol_bal</th>\n",
       "      <th>revol_util</th>\n",
       "      <th>total_acc</th>\n",
       "      <th>initial_list_status</th>\n",
       "      <th>out_prncp</th>\n",
       "      <th>out_prncp_inv</th>\n",
       "      <th>total_pymnt</th>\n",
       "      <th>total_pymnt_inv</th>\n",
       "      <th>total_rec_prncp</th>\n",
       "      <th>total_rec_int</th>\n",
       "      <th>total_rec_late_fee</th>\n",
       "      <th>recoveries</th>\n",
       "      <th>collection_recovery_fee</th>\n",
       "      <th>last_pymnt_d</th>\n",
       "      <th>last_pymnt_amnt</th>\n",
       "      <th>next_pymnt_d</th>\n",
       "      <th>last_credit_pull_d</th>\n",
       "      <th>collections_12_mths_ex_med</th>\n",
       "      <th>mths_since_last_major_derog</th>\n",
       "      <th>policy_code</th>\n",
       "      <th>application_type</th>\n",
       "      <th>annual_inc_joint</th>\n",
       "      <th>dti_joint</th>\n",
       "      <th>verification_status_joint</th>\n",
       "      <th>acc_now_delinq</th>\n",
       "      <th>loan_status</th>\n",
       "    </tr>\n",
       "  </thead>\n",
       "  <tbody>\n",
       "    <tr>\n",
       "      <th>0</th>\n",
       "      <td>1077501</td>\n",
       "      <td>1296599</td>\n",
       "      <td>5000</td>\n",
       "      <td>5000</td>\n",
       "      <td>4975.0</td>\n",
       "      <td>36 months</td>\n",
       "      <td>10.65</td>\n",
       "      <td>162.87</td>\n",
       "      <td>B</td>\n",
       "      <td>B2</td>\n",
       "      <td>NaN</td>\n",
       "      <td>10+ years</td>\n",
       "      <td>RENT</td>\n",
       "      <td>24000.0</td>\n",
       "      <td>Verified</td>\n",
       "      <td>Dec-11</td>\n",
       "      <td>n</td>\n",
       "      <td>https://www.lendingclub.com/browse/loanDetail....</td>\n",
       "      <td>Borrower added on 12/22/11 &gt; I need to upgra...</td>\n",
       "      <td>credit_card</td>\n",
       "      <td>Computer</td>\n",
       "      <td>860xx</td>\n",
       "      <td>AZ</td>\n",
       "      <td>27.65</td>\n",
       "      <td>0.0</td>\n",
       "      <td>Jan-85</td>\n",
       "      <td>1.0</td>\n",
       "      <td>NaN</td>\n",
       "      <td>NaN</td>\n",
       "      <td>3.0</td>\n",
       "      <td>0.0</td>\n",
       "      <td>13648</td>\n",
       "      <td>83.7</td>\n",
       "      <td>9.0</td>\n",
       "      <td>f</td>\n",
       "      <td>0.0</td>\n",
       "      <td>0.0</td>\n",
       "      <td>5861.071414</td>\n",
       "      <td>5831.78</td>\n",
       "      <td>5000.00</td>\n",
       "      <td>861.07</td>\n",
       "      <td>0.00</td>\n",
       "      <td>0.00</td>\n",
       "      <td>0.00</td>\n",
       "      <td>Jan-15</td>\n",
       "      <td>171.62</td>\n",
       "      <td>NaN</td>\n",
       "      <td>Jan-16</td>\n",
       "      <td>0.0</td>\n",
       "      <td>NaN</td>\n",
       "      <td>1</td>\n",
       "      <td>INDIVIDUAL</td>\n",
       "      <td>NaN</td>\n",
       "      <td>NaN</td>\n",
       "      <td>NaN</td>\n",
       "      <td>0.0</td>\n",
       "      <td>Fully Paid</td>\n",
       "    </tr>\n",
       "    <tr>\n",
       "      <th>1</th>\n",
       "      <td>1077430</td>\n",
       "      <td>1314167</td>\n",
       "      <td>2500</td>\n",
       "      <td>2500</td>\n",
       "      <td>2500.0</td>\n",
       "      <td>60 months</td>\n",
       "      <td>15.27</td>\n",
       "      <td>59.83</td>\n",
       "      <td>C</td>\n",
       "      <td>C4</td>\n",
       "      <td>Ryder</td>\n",
       "      <td>&lt; 1 year</td>\n",
       "      <td>RENT</td>\n",
       "      <td>30000.0</td>\n",
       "      <td>Source Verified</td>\n",
       "      <td>Dec-11</td>\n",
       "      <td>n</td>\n",
       "      <td>https://www.lendingclub.com/browse/loanDetail....</td>\n",
       "      <td>Borrower added on 12/22/11 &gt; I plan to use t...</td>\n",
       "      <td>car</td>\n",
       "      <td>bike</td>\n",
       "      <td>309xx</td>\n",
       "      <td>GA</td>\n",
       "      <td>1.00</td>\n",
       "      <td>0.0</td>\n",
       "      <td>Apr-99</td>\n",
       "      <td>5.0</td>\n",
       "      <td>NaN</td>\n",
       "      <td>NaN</td>\n",
       "      <td>3.0</td>\n",
       "      <td>0.0</td>\n",
       "      <td>1687</td>\n",
       "      <td>9.4</td>\n",
       "      <td>4.0</td>\n",
       "      <td>f</td>\n",
       "      <td>0.0</td>\n",
       "      <td>0.0</td>\n",
       "      <td>1008.710000</td>\n",
       "      <td>1008.71</td>\n",
       "      <td>456.46</td>\n",
       "      <td>435.17</td>\n",
       "      <td>0.00</td>\n",
       "      <td>117.08</td>\n",
       "      <td>1.11</td>\n",
       "      <td>Apr-13</td>\n",
       "      <td>119.66</td>\n",
       "      <td>NaN</td>\n",
       "      <td>Sep-13</td>\n",
       "      <td>0.0</td>\n",
       "      <td>NaN</td>\n",
       "      <td>1</td>\n",
       "      <td>INDIVIDUAL</td>\n",
       "      <td>NaN</td>\n",
       "      <td>NaN</td>\n",
       "      <td>NaN</td>\n",
       "      <td>0.0</td>\n",
       "      <td>Charged Off</td>\n",
       "    </tr>\n",
       "    <tr>\n",
       "      <th>2</th>\n",
       "      <td>1077175</td>\n",
       "      <td>1313524</td>\n",
       "      <td>2400</td>\n",
       "      <td>2400</td>\n",
       "      <td>2400.0</td>\n",
       "      <td>36 months</td>\n",
       "      <td>15.96</td>\n",
       "      <td>84.33</td>\n",
       "      <td>C</td>\n",
       "      <td>C5</td>\n",
       "      <td>NaN</td>\n",
       "      <td>10+ years</td>\n",
       "      <td>RENT</td>\n",
       "      <td>12252.0</td>\n",
       "      <td>Not Verified</td>\n",
       "      <td>Dec-11</td>\n",
       "      <td>n</td>\n",
       "      <td>https://www.lendingclub.com/browse/loanDetail....</td>\n",
       "      <td>NaN</td>\n",
       "      <td>small_business</td>\n",
       "      <td>real estate business</td>\n",
       "      <td>606xx</td>\n",
       "      <td>IL</td>\n",
       "      <td>8.72</td>\n",
       "      <td>0.0</td>\n",
       "      <td>Nov-01</td>\n",
       "      <td>2.0</td>\n",
       "      <td>NaN</td>\n",
       "      <td>NaN</td>\n",
       "      <td>2.0</td>\n",
       "      <td>0.0</td>\n",
       "      <td>2956</td>\n",
       "      <td>98.5</td>\n",
       "      <td>10.0</td>\n",
       "      <td>f</td>\n",
       "      <td>0.0</td>\n",
       "      <td>0.0</td>\n",
       "      <td>3003.653644</td>\n",
       "      <td>3003.65</td>\n",
       "      <td>2400.00</td>\n",
       "      <td>603.65</td>\n",
       "      <td>0.00</td>\n",
       "      <td>0.00</td>\n",
       "      <td>0.00</td>\n",
       "      <td>Jun-14</td>\n",
       "      <td>649.91</td>\n",
       "      <td>NaN</td>\n",
       "      <td>Jan-16</td>\n",
       "      <td>0.0</td>\n",
       "      <td>NaN</td>\n",
       "      <td>1</td>\n",
       "      <td>INDIVIDUAL</td>\n",
       "      <td>NaN</td>\n",
       "      <td>NaN</td>\n",
       "      <td>NaN</td>\n",
       "      <td>0.0</td>\n",
       "      <td>Fully Paid</td>\n",
       "    </tr>\n",
       "    <tr>\n",
       "      <th>3</th>\n",
       "      <td>1076863</td>\n",
       "      <td>1277178</td>\n",
       "      <td>10000</td>\n",
       "      <td>10000</td>\n",
       "      <td>10000.0</td>\n",
       "      <td>36 months</td>\n",
       "      <td>13.49</td>\n",
       "      <td>339.31</td>\n",
       "      <td>C</td>\n",
       "      <td>C1</td>\n",
       "      <td>AIR RESOURCES BOARD</td>\n",
       "      <td>10+ years</td>\n",
       "      <td>RENT</td>\n",
       "      <td>49200.0</td>\n",
       "      <td>Source Verified</td>\n",
       "      <td>Dec-11</td>\n",
       "      <td>n</td>\n",
       "      <td>https://www.lendingclub.com/browse/loanDetail....</td>\n",
       "      <td>Borrower added on 12/21/11 &gt; to pay for prop...</td>\n",
       "      <td>other</td>\n",
       "      <td>personel</td>\n",
       "      <td>917xx</td>\n",
       "      <td>CA</td>\n",
       "      <td>20.00</td>\n",
       "      <td>0.0</td>\n",
       "      <td>Feb-96</td>\n",
       "      <td>1.0</td>\n",
       "      <td>35.0</td>\n",
       "      <td>NaN</td>\n",
       "      <td>10.0</td>\n",
       "      <td>0.0</td>\n",
       "      <td>5598</td>\n",
       "      <td>21.0</td>\n",
       "      <td>37.0</td>\n",
       "      <td>f</td>\n",
       "      <td>0.0</td>\n",
       "      <td>0.0</td>\n",
       "      <td>12226.302210</td>\n",
       "      <td>12226.30</td>\n",
       "      <td>10000.00</td>\n",
       "      <td>2209.33</td>\n",
       "      <td>16.97</td>\n",
       "      <td>0.00</td>\n",
       "      <td>0.00</td>\n",
       "      <td>Jan-15</td>\n",
       "      <td>357.48</td>\n",
       "      <td>NaN</td>\n",
       "      <td>Jan-15</td>\n",
       "      <td>0.0</td>\n",
       "      <td>NaN</td>\n",
       "      <td>1</td>\n",
       "      <td>INDIVIDUAL</td>\n",
       "      <td>NaN</td>\n",
       "      <td>NaN</td>\n",
       "      <td>NaN</td>\n",
       "      <td>0.0</td>\n",
       "      <td>Fully Paid</td>\n",
       "    </tr>\n",
       "    <tr>\n",
       "      <th>4</th>\n",
       "      <td>1075358</td>\n",
       "      <td>1311748</td>\n",
       "      <td>3000</td>\n",
       "      <td>3000</td>\n",
       "      <td>3000.0</td>\n",
       "      <td>60 months</td>\n",
       "      <td>12.69</td>\n",
       "      <td>67.79</td>\n",
       "      <td>B</td>\n",
       "      <td>B5</td>\n",
       "      <td>University Medical Group</td>\n",
       "      <td>1 year</td>\n",
       "      <td>RENT</td>\n",
       "      <td>80000.0</td>\n",
       "      <td>Source Verified</td>\n",
       "      <td>Dec-11</td>\n",
       "      <td>n</td>\n",
       "      <td>https://www.lendingclub.com/browse/loanDetail....</td>\n",
       "      <td>Borrower added on 12/21/11 &gt; I plan on combi...</td>\n",
       "      <td>other</td>\n",
       "      <td>Personal</td>\n",
       "      <td>972xx</td>\n",
       "      <td>OR</td>\n",
       "      <td>17.94</td>\n",
       "      <td>0.0</td>\n",
       "      <td>Jan-96</td>\n",
       "      <td>0.0</td>\n",
       "      <td>38.0</td>\n",
       "      <td>NaN</td>\n",
       "      <td>15.0</td>\n",
       "      <td>0.0</td>\n",
       "      <td>27783</td>\n",
       "      <td>53.9</td>\n",
       "      <td>38.0</td>\n",
       "      <td>f</td>\n",
       "      <td>766.9</td>\n",
       "      <td>766.9</td>\n",
       "      <td>3242.170000</td>\n",
       "      <td>3242.17</td>\n",
       "      <td>2233.10</td>\n",
       "      <td>1009.07</td>\n",
       "      <td>0.00</td>\n",
       "      <td>0.00</td>\n",
       "      <td>0.00</td>\n",
       "      <td>Jan-16</td>\n",
       "      <td>67.79</td>\n",
       "      <td>Feb-16</td>\n",
       "      <td>Jan-16</td>\n",
       "      <td>0.0</td>\n",
       "      <td>NaN</td>\n",
       "      <td>1</td>\n",
       "      <td>INDIVIDUAL</td>\n",
       "      <td>NaN</td>\n",
       "      <td>NaN</td>\n",
       "      <td>NaN</td>\n",
       "      <td>0.0</td>\n",
       "      <td>Current</td>\n",
       "    </tr>\n",
       "  </tbody>\n",
       "</table>\n",
       "</div>"
      ],
      "text/plain": [
       "        id  member_id  ...  acc_now_delinq  loan_status\n",
       "0  1077501    1296599  ...             0.0   Fully Paid\n",
       "1  1077430    1314167  ...             0.0  Charged Off\n",
       "2  1077175    1313524  ...             0.0   Fully Paid\n",
       "3  1076863    1277178  ...             0.0   Fully Paid\n",
       "4  1075358    1311748  ...             0.0      Current\n",
       "\n",
       "[5 rows x 57 columns]"
      ]
     },
     "execution_count": 6,
     "metadata": {
      "tags": []
     },
     "output_type": "execute_result"
    }
   ],
   "source": [
    "data.head()"
   ]
  },
  {
   "cell_type": "code",
   "execution_count": 0,
   "metadata": {
    "colab": {
     "base_uri": "https://localhost:8080/",
     "height": 1000
    },
    "colab_type": "code",
    "executionInfo": {
     "elapsed": 24409,
     "status": "ok",
     "timestamp": 1590990763815,
     "user": {
      "displayName": "Ningthoibi Devi",
      "photoUrl": "",
      "userId": "03298143199062643316"
     },
     "user_tz": -330
    },
    "id": "WPAHZA5Lmo2S",
    "outputId": "fbf54589-a3c6-4f2c-b24b-c9db9f16e8e4"
   },
   "outputs": [
    {
     "name": "stdout",
     "output_type": "stream",
     "text": [
      "<class 'pandas.core.frame.DataFrame'>\n",
      "RangeIndex: 887379 entries, 0 to 887378\n",
      "Data columns (total 57 columns):\n",
      " #   Column                       Non-Null Count   Dtype  \n",
      "---  ------                       --------------   -----  \n",
      " 0   id                           887379 non-null  int64  \n",
      " 1   member_id                    887379 non-null  int64  \n",
      " 2   loan_amnt                    887379 non-null  int64  \n",
      " 3   funded_amnt                  887379 non-null  int64  \n",
      " 4   funded_amnt_inv              887379 non-null  float64\n",
      " 5   term                         887379 non-null  object \n",
      " 6   int_rate                     887379 non-null  float64\n",
      " 7   installment                  887379 non-null  float64\n",
      " 8   grade                        887379 non-null  object \n",
      " 9   sub_grade                    887379 non-null  object \n",
      " 10  emp_title                    835917 non-null  object \n",
      " 11  emp_length                   842554 non-null  object \n",
      " 12  home_ownership               887379 non-null  object \n",
      " 13  annual_inc                   887375 non-null  float64\n",
      " 14  verification_status          887379 non-null  object \n",
      " 15  issue_d                      887379 non-null  object \n",
      " 16  pymnt_plan                   887379 non-null  object \n",
      " 17  url                          887379 non-null  object \n",
      " 18  desc                         126028 non-null  object \n",
      " 19  purpose                      887379 non-null  object \n",
      " 20  title                        887227 non-null  object \n",
      " 21  zip_code                     887379 non-null  object \n",
      " 22  addr_state                   887379 non-null  object \n",
      " 23  dti                          887379 non-null  float64\n",
      " 24  delinq_2yrs                  887350 non-null  float64\n",
      " 25  earliest_cr_line             887350 non-null  object \n",
      " 26  inq_last_6mths               887350 non-null  float64\n",
      " 27  mths_since_last_delinq       433067 non-null  float64\n",
      " 28  mths_since_last_record       137053 non-null  float64\n",
      " 29  open_acc                     887350 non-null  float64\n",
      " 30  pub_rec                      887350 non-null  float64\n",
      " 31  revol_bal                    887379 non-null  int64  \n",
      " 32  revol_util                   886877 non-null  float64\n",
      " 33  total_acc                    887350 non-null  float64\n",
      " 34  initial_list_status          887379 non-null  object \n",
      " 35  out_prncp                    887379 non-null  float64\n",
      " 36  out_prncp_inv                887379 non-null  float64\n",
      " 37  total_pymnt                  887379 non-null  float64\n",
      " 38  total_pymnt_inv              887379 non-null  float64\n",
      " 39  total_rec_prncp              887379 non-null  float64\n",
      " 40  total_rec_int                887379 non-null  float64\n",
      " 41  total_rec_late_fee           887379 non-null  float64\n",
      " 42  recoveries                   887379 non-null  float64\n",
      " 43  collection_recovery_fee      887379 non-null  float64\n",
      " 44  last_pymnt_d                 869720 non-null  object \n",
      " 45  last_pymnt_amnt              887379 non-null  float64\n",
      " 46  next_pymnt_d                 634408 non-null  object \n",
      " 47  last_credit_pull_d           887326 non-null  object \n",
      " 48  collections_12_mths_ex_med   887234 non-null  float64\n",
      " 49  mths_since_last_major_derog  221703 non-null  float64\n",
      " 50  policy_code                  887379 non-null  int64  \n",
      " 51  application_type             887379 non-null  object \n",
      " 52  annual_inc_joint             511 non-null     float64\n",
      " 53  dti_joint                    509 non-null     float64\n",
      " 54  verification_status_joint    511 non-null     object \n",
      " 55  acc_now_delinq               887350 non-null  float64\n",
      " 56  loan_status                  887379 non-null  object \n",
      "dtypes: float64(28), int64(6), object(23)\n",
      "memory usage: 385.9+ MB\n",
      "None\n"
     ]
    }
   ],
   "source": [
    "print(data.info())"
   ]
  },
  {
   "cell_type": "code",
   "execution_count": 0,
   "metadata": {
    "colab": {
     "base_uri": "https://localhost:8080/",
     "height": 204
    },
    "colab_type": "code",
    "executionInfo": {
     "elapsed": 24991,
     "status": "ok",
     "timestamp": 1590990764435,
     "user": {
      "displayName": "Ningthoibi Devi",
      "photoUrl": "",
      "userId": "03298143199062643316"
     },
     "user_tz": -330
    },
    "id": "U59RLVho9yzw",
    "outputId": "8af3bcd2-238f-4bff-a92e-029232dc8fcd"
   },
   "outputs": [
    {
     "name": "stdout",
     "output_type": "stream",
     "text": [
      "Current                                                601779\n",
      "Fully Paid                                             207723\n",
      "Charged Off                                             45248\n",
      "Late (31-120 days)                                      11591\n",
      "Issued                                                   8460\n",
      "In Grace Period                                          6253\n",
      "Late (16-30 days)                                        2357\n",
      "Does not meet the credit policy. Status:Fully Paid       1988\n",
      "Default                                                  1219\n",
      "Does not meet the credit policy. Status:Charged Off       761\n",
      "Name: loan_status, dtype: int64\n"
     ]
    }
   ],
   "source": [
    "print(data['loan_status'].value_counts())"
   ]
  },
  {
   "cell_type": "code",
   "execution_count": 0,
   "metadata": {
    "colab": {},
    "colab_type": "code",
    "id": "1vlfmtfX8VR7"
   },
   "outputs": [],
   "source": [
    "data['loan_status']=[1 if x=='Current' or x=='Fully Paid'  else 0 for x in data['loan_status']]"
   ]
  },
  {
   "cell_type": "code",
   "execution_count": 0,
   "metadata": {
    "colab": {},
    "colab_type": "code",
    "id": "jorLHqt-nULy"
   },
   "outputs": [],
   "source": [
    "x=data.drop('loan_status',1)\n",
    "y=data.loan_status"
   ]
  },
  {
   "cell_type": "code",
   "execution_count": 0,
   "metadata": {
    "colab": {
     "base_uri": "https://localhost:8080/",
     "height": 34
    },
    "colab_type": "code",
    "executionInfo": {
     "elapsed": 25523,
     "status": "ok",
     "timestamp": 1590990765066,
     "user": {
      "displayName": "Ningthoibi Devi",
      "photoUrl": "",
      "userId": "03298143199062643316"
     },
     "user_tz": -330
    },
    "id": "x8_OJqD_nYRk",
    "outputId": "351d3ee7-1f61-4293-debd-ae0aff97e392"
   },
   "outputs": [
    {
     "name": "stdout",
     "output_type": "stream",
     "text": [
      "<class 'pandas.core.frame.DataFrame'>\n"
     ]
    }
   ],
   "source": [
    "print(type(x))"
   ]
  },
  {
   "cell_type": "code",
   "execution_count": 0,
   "metadata": {
    "colab": {
     "base_uri": "https://localhost:8080/",
     "height": 68
    },
    "colab_type": "code",
    "executionInfo": {
     "elapsed": 25484,
     "status": "ok",
     "timestamp": 1590990765068,
     "user": {
      "displayName": "Ningthoibi Devi",
      "photoUrl": "",
      "userId": "03298143199062643316"
     },
     "user_tz": -330
    },
    "id": "L2rEOerjnbp8",
    "outputId": "e77f44d5-ae72-4083-b826-2b2be3e13eae"
   },
   "outputs": [
    {
     "name": "stdout",
     "output_type": "stream",
     "text": [
      "1    809502\n",
      "0     77877\n",
      "Name: loan_status, dtype: int64\n"
     ]
    }
   ],
   "source": [
    "print(y.value_counts())"
   ]
  },
  {
   "cell_type": "code",
   "execution_count": 0,
   "metadata": {
    "colab": {
     "base_uri": "https://localhost:8080/",
     "height": 153
    },
    "colab_type": "code",
    "executionInfo": {
     "elapsed": 25413,
     "status": "ok",
     "timestamp": 1590990765069,
     "user": {
      "displayName": "Ningthoibi Devi",
      "photoUrl": "",
      "userId": "03298143199062643316"
     },
     "user_tz": -330
    },
    "id": "gFPdRqg1nfBo",
    "outputId": "8668e3cf-54d2-4584-9721-1071bcf71c0c"
   },
   "outputs": [
    {
     "name": "stdout",
     "output_type": "stream",
     "text": [
      "        id  member_id  ...  verification_status_joint  acc_now_delinq\n",
      "0  1077501    1296599  ...                        NaN             0.0\n",
      "1  1077430    1314167  ...                        NaN             0.0\n",
      "2  1077175    1313524  ...                        NaN             0.0\n",
      "3  1076863    1277178  ...                        NaN             0.0\n",
      "4  1075358    1311748  ...                        NaN             0.0\n",
      "\n",
      "[5 rows x 56 columns]\n"
     ]
    }
   ],
   "source": [
    "print(x.head(5))"
   ]
  },
  {
   "cell_type": "code",
   "execution_count": 0,
   "metadata": {
    "colab": {
     "base_uri": "https://localhost:8080/",
     "height": 986
    },
    "colab_type": "code",
    "executionInfo": {
     "elapsed": 26739,
     "status": "ok",
     "timestamp": 1590990766433,
     "user": {
      "displayName": "Ningthoibi Devi",
      "photoUrl": "",
      "userId": "03298143199062643316"
     },
     "user_tz": -330
    },
    "id": "CG4q_wdtniVs",
    "outputId": "13c11c09-99ff-470c-9a82-57b3630f5e6d"
   },
   "outputs": [
    {
     "data": {
      "text/plain": [
       "dti_joint                      886870\n",
       "annual_inc_joint               886868\n",
       "verification_status_joint      886868\n",
       "desc                           761351\n",
       "mths_since_last_record         750326\n",
       "mths_since_last_major_derog    665676\n",
       "mths_since_last_delinq         454312\n",
       "next_pymnt_d                   252971\n",
       "emp_title                       51462\n",
       "emp_length                      44825\n",
       "last_pymnt_d                    17659\n",
       "revol_util                        502\n",
       "title                             152\n",
       "collections_12_mths_ex_med        145\n",
       "last_credit_pull_d                 53\n",
       "total_acc                          29\n",
       "delinq_2yrs                        29\n",
       "earliest_cr_line                   29\n",
       "inq_last_6mths                     29\n",
       "open_acc                           29\n",
       "pub_rec                            29\n",
       "acc_now_delinq                     29\n",
       "annual_inc                          4\n",
       "initial_list_status                 0\n",
       "grade                               0\n",
       "verification_status                 0\n",
       "home_ownership                      0\n",
       "policy_code                         0\n",
       "application_type                    0\n",
       "sub_grade                           0\n",
       "installment                         0\n",
       "out_prncp                           0\n",
       "int_rate                            0\n",
       "term                                0\n",
       "funded_amnt_inv                     0\n",
       "funded_amnt                         0\n",
       "loan_amnt                           0\n",
       "member_id                           0\n",
       "issue_d                             0\n",
       "pymnt_plan                          0\n",
       "url                                 0\n",
       "last_pymnt_amnt                     0\n",
       "purpose                             0\n",
       "collection_recovery_fee             0\n",
       "zip_code                            0\n",
       "addr_state                          0\n",
       "dti                                 0\n",
       "recoveries                          0\n",
       "total_rec_late_fee                  0\n",
       "total_rec_int                       0\n",
       "total_rec_prncp                     0\n",
       "total_pymnt_inv                     0\n",
       "total_pymnt                         0\n",
       "out_prncp_inv                       0\n",
       "revol_bal                           0\n",
       "id                                  0\n",
       "dtype: int64"
      ]
     },
     "execution_count": 14,
     "metadata": {
      "tags": []
     },
     "output_type": "execute_result"
    }
   ],
   "source": [
    "x.isnull().sum().sort_values(ascending=False)"
   ]
  },
  {
   "cell_type": "code",
   "execution_count": 0,
   "metadata": {
    "colab": {},
    "colab_type": "code",
    "id": "Np_VbYalnlJy"
   },
   "outputs": [],
   "source": [
    "del x['dti_joint']"
   ]
  },
  {
   "cell_type": "code",
   "execution_count": 0,
   "metadata": {
    "colab": {},
    "colab_type": "code",
    "id": "LE9hzPzAnnuw"
   },
   "outputs": [],
   "source": [
    "del x['annual_inc_joint']"
   ]
  },
  {
   "cell_type": "code",
   "execution_count": 0,
   "metadata": {
    "colab": {},
    "colab_type": "code",
    "id": "v8CJCzt5nq18"
   },
   "outputs": [],
   "source": [
    "del x['verification_status_joint']"
   ]
  },
  {
   "cell_type": "code",
   "execution_count": 0,
   "metadata": {
    "colab": {
     "base_uri": "https://localhost:8080/",
     "height": 935
    },
    "colab_type": "code",
    "executionInfo": {
     "elapsed": 27602,
     "status": "ok",
     "timestamp": 1590990767427,
     "user": {
      "displayName": "Ningthoibi Devi",
      "photoUrl": "",
      "userId": "03298143199062643316"
     },
     "user_tz": -330
    },
    "id": "rDwwBISDns__",
    "outputId": "3c97a926-0c41-406d-bd4c-9d1afca698a9"
   },
   "outputs": [
    {
     "data": {
      "text/plain": [
       "desc                           761351\n",
       "mths_since_last_record         750326\n",
       "mths_since_last_major_derog    665676\n",
       "mths_since_last_delinq         454312\n",
       "next_pymnt_d                   252971\n",
       "emp_title                       51462\n",
       "emp_length                      44825\n",
       "last_pymnt_d                    17659\n",
       "revol_util                        502\n",
       "title                             152\n",
       "collections_12_mths_ex_med        145\n",
       "last_credit_pull_d                 53\n",
       "total_acc                          29\n",
       "delinq_2yrs                        29\n",
       "earliest_cr_line                   29\n",
       "open_acc                           29\n",
       "pub_rec                            29\n",
       "acc_now_delinq                     29\n",
       "inq_last_6mths                     29\n",
       "annual_inc                          4\n",
       "initial_list_status                 0\n",
       "grade                               0\n",
       "verification_status                 0\n",
       "home_ownership                      0\n",
       "last_pymnt_amnt                     0\n",
       "policy_code                         0\n",
       "sub_grade                           0\n",
       "installment                         0\n",
       "out_prncp                           0\n",
       "int_rate                            0\n",
       "term                                0\n",
       "funded_amnt_inv                     0\n",
       "funded_amnt                         0\n",
       "loan_amnt                           0\n",
       "member_id                           0\n",
       "issue_d                             0\n",
       "pymnt_plan                          0\n",
       "url                                 0\n",
       "collection_recovery_fee             0\n",
       "purpose                             0\n",
       "recoveries                          0\n",
       "zip_code                            0\n",
       "addr_state                          0\n",
       "dti                                 0\n",
       "total_rec_late_fee                  0\n",
       "total_rec_int                       0\n",
       "application_type                    0\n",
       "total_rec_prncp                     0\n",
       "total_pymnt_inv                     0\n",
       "total_pymnt                         0\n",
       "out_prncp_inv                       0\n",
       "revol_bal                           0\n",
       "id                                  0\n",
       "dtype: int64"
      ]
     },
     "execution_count": 18,
     "metadata": {
      "tags": []
     },
     "output_type": "execute_result"
    }
   ],
   "source": [
    "x.isnull().sum().sort_values(ascending=False)"
   ]
  },
  {
   "cell_type": "code",
   "execution_count": 0,
   "metadata": {
    "colab": {
     "base_uri": "https://localhost:8080/",
     "height": 417
    },
    "colab_type": "code",
    "executionInfo": {
     "elapsed": 79891,
     "status": "ok",
     "timestamp": 1590990819755,
     "user": {
      "displayName": "Ningthoibi Devi",
      "photoUrl": "",
      "userId": "03298143199062643316"
     },
     "user_tz": -330
    },
    "id": "6Wb-3tHinvos",
    "outputId": "8a0ee2ef-6c8a-44b1-e9ec-fade89d958e4"
   },
   "outputs": [
    {
     "data": {
      "text/plain": [
       "<matplotlib.axes._subplots.AxesSubplot at 0x7efbc76120b8>"
      ]
     },
     "execution_count": 19,
     "metadata": {
      "tags": []
     },
     "output_type": "execute_result"
    },
    {
     "data": {
      "image/png": "[encoded data removed]",
      "text/plain": [
       "<Figure size 432x288 with 1 Axes>"
      ]
     },
     "metadata": {
      "needs_background": "light",
      "tags": []
     },
     "output_type": "display_data"
    }
   ],
   "source": [
    "sns.heatmap(x.isnull(),yticklabels=False,cbar=False,cmap='viridis')"
   ]
  },
  {
   "cell_type": "code",
   "execution_count": 0,
   "metadata": {
    "colab": {
     "base_uri": "https://localhost:8080/",
     "height": 374
    },
    "colab_type": "code",
    "executionInfo": {
     "elapsed": 80753,
     "status": "ok",
     "timestamp": 1590990820637,
     "user": {
      "displayName": "Ningthoibi Devi",
      "photoUrl": "",
      "userId": "03298143199062643316"
     },
     "user_tz": -330
    },
    "id": "3jwiCrJcn0g7",
    "outputId": "263469b1-5aa4-4733-8c09-4d901d7f6c98"
   },
   "outputs": [
    {
     "name": "stdout",
     "output_type": "stream",
     "text": [
      "Feature term has 2 unique categories\n",
      "Feature grade has 7 unique categories\n",
      "Feature sub_grade has 35 unique categories\n",
      "Feature emp_title has 299270 unique categories\n",
      "Feature emp_length has 12 unique categories\n",
      "Feature home_ownership has 6 unique categories\n",
      "Feature verification_status has 3 unique categories\n",
      "Feature issue_d has 103 unique categories\n",
      "Feature pymnt_plan has 2 unique categories\n",
      "Feature url has 887379 unique categories\n",
      "Feature desc has 124470 unique categories\n",
      "Feature purpose has 14 unique categories\n",
      "Feature title has 63106 unique categories\n",
      "Feature zip_code has 935 unique categories\n",
      "Feature addr_state has 51 unique categories\n",
      "Feature earliest_cr_line has 698 unique categories\n",
      "Feature initial_list_status has 2 unique categories\n",
      "Feature last_pymnt_d has 99 unique categories\n",
      "Feature next_pymnt_d has 101 unique categories\n",
      "Feature last_credit_pull_d has 104 unique categories\n",
      "Feature application_type has 2 unique categories\n"
     ]
    }
   ],
   "source": [
    "for col_name in x.columns:\n",
    "    if x[col_name].dtypes=='object':\n",
    "        unique_cat=len(x[col_name].unique())\n",
    "        print(\"Feature {col_name} has {unique_cat} unique categories\".format(col_name=col_name,unique_cat=unique_cat))"
   ]
  },
  {
   "cell_type": "code",
   "execution_count": 0,
   "metadata": {
    "colab": {
     "base_uri": "https://localhost:8080/",
     "height": 204
    },
    "colab_type": "code",
    "executionInfo": {
     "elapsed": 82077,
     "status": "ok",
     "timestamp": 1590990821984,
     "user": {
      "displayName": "Ningthoibi Devi",
      "photoUrl": "",
      "userId": "03298143199062643316"
     },
     "user_tz": -330
    },
    "id": "2CHV8gCvn3Sr",
    "outputId": "d287b15c-9585-4027-87a3-a6e66dbfd74e"
   },
   "outputs": [
    {
     "name": "stdout",
     "output_type": "stream",
     "text": [
      "https://www.lendingclub.com/browse/loanDetail.action?loan_id=17804057    1\n",
      "https://www.lendingclub.com/browse/loanDetail.action?loan_id=2371024     1\n",
      "https://www.lendingclub.com/browse/loanDetail.action?loan_id=1208184     1\n",
      "https://www.lendingclub.com/browse/loanDetail.action?loan_id=63344656    1\n",
      "https://www.lendingclub.com/browse/loanDetail.action?loan_id=1252078     1\n",
      "https://www.lendingclub.com/browse/loanDetail.action?loan_id=61662777    1\n",
      "https://www.lendingclub.com/browse/loanDetail.action?loan_id=3300654     1\n",
      "https://www.lendingclub.com/browse/loanDetail.action?loan_id=5115886     1\n",
      "https://www.lendingclub.com/browse/loanDetail.action?loan_id=38568018    1\n",
      "https://www.lendingclub.com/browse/loanDetail.action?loan_id=26397845    1\n",
      "Name: url, dtype: int64\n"
     ]
    }
   ],
   "source": [
    "print(x['url'].value_counts().sort_values(ascending=False).head(10))"
   ]
  },
  {
   "cell_type": "code",
   "execution_count": 0,
   "metadata": {
    "colab": {},
    "colab_type": "code",
    "id": "CgOr0MORoBjV"
   },
   "outputs": [],
   "source": [
    "del x['url']"
   ]
  },
  {
   "cell_type": "code",
   "execution_count": 0,
   "metadata": {
    "colab": {
     "base_uri": "https://localhost:8080/",
     "height": 34
    },
    "colab_type": "code",
    "executionInfo": {
     "elapsed": 250890,
     "status": "ok",
     "timestamp": 1590934453875,
     "user": {
      "displayName": "Ningthoibi Devi",
      "photoUrl": "",
      "userId": "03298143199062643316"
     },
     "user_tz": -330
    },
    "id": "rJhKz-m4oEQw",
    "outputId": "8b261224-76b7-4c66-ff43-abda3cd86663"
   },
   "outputs": [
    {
     "data": {
      "text/plain": [
       "(887379, 489026)"
      ]
     },
     "execution_count": 88,
     "metadata": {
      "tags": []
     },
     "output_type": "execute_result"
    }
   ],
   "source": [
    "pd.get_dummies(x,sparse=True,drop_first=True).shape"
   ]
  },
  {
   "cell_type": "code",
   "execution_count": 0,
   "metadata": {
    "colab": {
     "base_uri": "https://localhost:8080/",
     "height": 204
    },
    "colab_type": "code",
    "executionInfo": {
     "elapsed": 9400,
     "status": "ok",
     "timestamp": 1590990835415,
     "user": {
      "displayName": "Ningthoibi Devi",
      "photoUrl": "",
      "userId": "03298143199062643316"
     },
     "user_tz": -330
    },
    "id": "BMJTJcbpoGoy",
    "outputId": "c75cb1d4-7156-46ba-b03e-fdceb213bec7"
   },
   "outputs": [
    {
     "name": "stdout",
     "output_type": "stream",
     "text": [
      "                                                         246\n",
      "Debt Consolidation                                        13\n",
      "  Borrower added on 03/17/14 > Debt consolidation<br>     11\n",
      "  Borrower added on 03/10/14 > Debt consolidation<br>     10\n",
      "  Borrower added on 02/19/14 > Debt consolidation<br>      9\n",
      "Camping Membership                                         8\n",
      "  Borrower added on 01/29/14 > Debt consolidation<br>      8\n",
      "  Borrower added on 01/22/14 > Debt consolidation<br>      7\n",
      "  Borrower added on 01/15/14 > Debt consolidation<br>      7\n",
      "  Borrower added on 03/07/14 > Debt consolidation<br>      6\n",
      "Name: desc, dtype: int64\n"
     ]
    }
   ],
   "source": [
    "print(x['desc'].value_counts().sort_values(ascending=False).head(10))"
   ]
  },
  {
   "cell_type": "code",
   "execution_count": 0,
   "metadata": {
    "colab": {
     "base_uri": "https://localhost:8080/",
     "height": 204
    },
    "colab_type": "code",
    "executionInfo": {
     "elapsed": 7070,
     "status": "ok",
     "timestamp": 1590990835417,
     "user": {
      "displayName": "Ningthoibi Devi",
      "photoUrl": "",
      "userId": "03298143199062643316"
     },
     "user_tz": -330
    },
    "id": "tL8i0pmDotr7",
    "outputId": "c16ef196-2bf9-47a4-8547-93862e992458"
   },
   "outputs": [
    {
     "name": "stdout",
     "output_type": "stream",
     "text": [
      "Teacher             13469\n",
      "Manager             11240\n",
      "Registered Nurse     5525\n",
      "Owner                5376\n",
      "RN                   5355\n",
      "Supervisor           4983\n",
      "Sales                4212\n",
      "Project Manager      3988\n",
      "Driver               3569\n",
      "Office Manager       3510\n",
      "Name: emp_title, dtype: int64\n"
     ]
    }
   ],
   "source": [
    "print(x['emp_title'].value_counts().sort_values(ascending=False).head(10))"
   ]
  },
  {
   "cell_type": "code",
   "execution_count": 0,
   "metadata": {
    "colab": {
     "base_uri": "https://localhost:8080/",
     "height": 204
    },
    "colab_type": "code",
    "executionInfo": {
     "elapsed": 5661,
     "status": "ok",
     "timestamp": 1590990836278,
     "user": {
      "displayName": "Ningthoibi Devi",
      "photoUrl": "",
      "userId": "03298143199062643316"
     },
     "user_tz": -330
    },
    "id": "4iYrLMM4ou8x",
    "outputId": "5d0a20bc-6377-4ec2-d48b-fb07a3466565"
   },
   "outputs": [
    {
     "name": "stdout",
     "output_type": "stream",
     "text": [
      "Teacher             13469\n",
      "Manager             11240\n",
      "Registered Nurse     5525\n",
      "Owner                5376\n",
      "RN                   5355\n",
      "Supervisor           4983\n",
      "Sales                4212\n",
      "Project Manager      3988\n",
      "Driver               3569\n",
      "Office Manager       3510\n",
      "Name: emp_title, dtype: int64\n"
     ]
    }
   ],
   "source": [
    "print(x['emp_title'].value_counts().sort_values(ascending=False).head(10))"
   ]
  },
  {
   "cell_type": "code",
   "execution_count": 0,
   "metadata": {
    "colab": {
     "base_uri": "https://localhost:8080/",
     "height": 204
    },
    "colab_type": "code",
    "executionInfo": {
     "elapsed": 1593,
     "status": "ok",
     "timestamp": 1590990837887,
     "user": {
      "displayName": "Ningthoibi Devi",
      "photoUrl": "",
      "userId": "03298143199062643316"
     },
     "user_tz": -330
    },
    "id": "U9IHE35eoyEo",
    "outputId": "a64c2534-7325-4f68-d999-118e9b4b77d6"
   },
   "outputs": [
    {
     "name": "stdout",
     "output_type": "stream",
     "text": [
      "945xx    9770\n",
      "750xx    9417\n",
      "112xx    9272\n",
      "606xx    8641\n",
      "300xx    8126\n",
      "100xx    7609\n",
      "070xx    7431\n",
      "331xx    7416\n",
      "900xx    7287\n",
      "770xx    6938\n",
      "Name: zip_code, dtype: int64\n"
     ]
    }
   ],
   "source": [
    "print(x['zip_code'].value_counts().sort_values(ascending=False).head(10))"
   ]
  },
  {
   "cell_type": "code",
   "execution_count": 0,
   "metadata": {
    "colab": {},
    "colab_type": "code",
    "id": "B03m8Yz_o0-m"
   },
   "outputs": [],
   "source": [
    "def one_hot_top(df,variable,top_x_labels):\n",
    "    for label in top_x_labels:\n",
    "        df[variable+'_'+label]=np.where(data[variable]==label,1,0)\n"
   ]
  },
  {
   "cell_type": "code",
   "execution_count": 0,
   "metadata": {
    "colab": {
     "base_uri": "https://localhost:8080/",
     "height": 187
    },
    "colab_type": "code",
    "executionInfo": {
     "elapsed": 1831,
     "status": "ok",
     "timestamp": 1590990843566,
     "user": {
      "displayName": "Ningthoibi Devi",
      "photoUrl": "",
      "userId": "03298143199062643316"
     },
     "user_tz": -330
    },
    "id": "pdG_jt1bo3ro",
    "outputId": "4c992300-205b-4359-97e0-e20b06c5613a"
   },
   "outputs": [
    {
     "data": {
      "text/plain": [
       "['Teacher',\n",
       " 'Manager',\n",
       " 'Registered Nurse',\n",
       " 'Owner',\n",
       " 'RN',\n",
       " 'Supervisor',\n",
       " 'Sales',\n",
       " 'Project Manager',\n",
       " 'Driver',\n",
       " 'Office Manager']"
      ]
     },
     "execution_count": 28,
     "metadata": {
      "tags": []
     },
     "output_type": "execute_result"
    }
   ],
   "source": [
    "top_10_1=[i for i in x['emp_title'].value_counts().sort_values(ascending=False).head(10).index]\n",
    "top_10_1"
   ]
  },
  {
   "cell_type": "code",
   "execution_count": 0,
   "metadata": {
    "colab": {
     "base_uri": "https://localhost:8080/",
     "height": 187
    },
    "colab_type": "code",
    "executionInfo": {
     "elapsed": 1518,
     "status": "ok",
     "timestamp": 1590990845328,
     "user": {
      "displayName": "Ningthoibi Devi",
      "photoUrl": "",
      "userId": "03298143199062643316"
     },
     "user_tz": -330
    },
    "id": "LHiVswg6o6E7",
    "outputId": "094ad338-92a6-432e-c914-308551c6f71f"
   },
   "outputs": [
    {
     "data": {
      "text/plain": [
       "['Debt consolidation',\n",
       " 'Credit card refinancing',\n",
       " 'Home improvement',\n",
       " 'Other',\n",
       " 'Debt Consolidation',\n",
       " 'Major purchase',\n",
       " 'Business',\n",
       " 'Medical expenses',\n",
       " 'Car financing',\n",
       " 'Consolidation']"
      ]
     },
     "execution_count": 29,
     "metadata": {
      "tags": []
     },
     "output_type": "execute_result"
    }
   ],
   "source": [
    "top_10_2=[i for i in x['title'].value_counts().sort_values(ascending=False).head(10).index]\n",
    "top_10_2"
   ]
  },
  {
   "cell_type": "code",
   "execution_count": 0,
   "metadata": {
    "colab": {
     "base_uri": "https://localhost:8080/",
     "height": 187
    },
    "colab_type": "code",
    "executionInfo": {
     "elapsed": 1924,
     "status": "ok",
     "timestamp": 1590990848948,
     "user": {
      "displayName": "Ningthoibi Devi",
      "photoUrl": "",
      "userId": "03298143199062643316"
     },
     "user_tz": -330
    },
    "id": "RuaIg3g3o8wu",
    "outputId": "609d0aca-8277-4a35-db45-7acd7f9dfb67"
   },
   "outputs": [
    {
     "data": {
      "text/plain": [
       "[' ',\n",
       " 'Debt Consolidation',\n",
       " '  Borrower added on 03/17/14 > Debt consolidation<br>',\n",
       " '  Borrower added on 03/10/14 > Debt consolidation<br>',\n",
       " '  Borrower added on 02/19/14 > Debt consolidation<br>',\n",
       " 'Camping Membership',\n",
       " '  Borrower added on 01/29/14 > Debt consolidation<br>',\n",
       " '  Borrower added on 01/22/14 > Debt consolidation<br>',\n",
       " '  Borrower added on 01/15/14 > Debt consolidation<br>',\n",
       " '  Borrower added on 03/07/14 > Debt consolidation<br>']"
      ]
     },
     "execution_count": 30,
     "metadata": {
      "tags": []
     },
     "output_type": "execute_result"
    }
   ],
   "source": [
    "top_10_3=[i for i in x['desc'].value_counts().sort_values(ascending=False).head(10).index]\n",
    "top_10_3"
   ]
  },
  {
   "cell_type": "code",
   "execution_count": 0,
   "metadata": {
    "colab": {
     "base_uri": "https://localhost:8080/",
     "height": 187
    },
    "colab_type": "code",
    "executionInfo": {
     "elapsed": 1781,
     "status": "ok",
     "timestamp": 1590990850782,
     "user": {
      "displayName": "Ningthoibi Devi",
      "photoUrl": "",
      "userId": "03298143199062643316"
     },
     "user_tz": -330
    },
    "id": "sVcYX7-jpBRb",
    "outputId": "09beffbe-d1e5-42bd-8d67-4f674c7cc69b"
   },
   "outputs": [
    {
     "data": {
      "text/plain": [
       "['945xx',\n",
       " '750xx',\n",
       " '112xx',\n",
       " '606xx',\n",
       " '300xx',\n",
       " '100xx',\n",
       " '070xx',\n",
       " '331xx',\n",
       " '900xx',\n",
       " '770xx']"
      ]
     },
     "execution_count": 31,
     "metadata": {
      "tags": []
     },
     "output_type": "execute_result"
    }
   ],
   "source": [
    "top_10_4=[i for i in x['zip_code'].value_counts().sort_values(ascending=False).head(10).index]\n",
    "top_10_4"
   ]
  },
  {
   "cell_type": "code",
   "execution_count": 0,
   "metadata": {
    "colab": {},
    "colab_type": "code",
    "id": "2N9JwbJOpEFr"
   },
   "outputs": [],
   "source": [
    "one_hot_top(x,'emp_title',top_10_1)"
   ]
  },
  {
   "cell_type": "code",
   "execution_count": 0,
   "metadata": {
    "colab": {
     "base_uri": "https://localhost:8080/",
     "height": 238
    },
    "colab_type": "code",
    "executionInfo": {
     "elapsed": 1932,
     "status": "ok",
     "timestamp": 1590990857713,
     "user": {
      "displayName": "Ningthoibi Devi",
      "photoUrl": "",
      "userId": "03298143199062643316"
     },
     "user_tz": -330
    },
    "id": "VbF5z_bGpHtR",
    "outputId": "35571f6b-f896-4209-cd59-99fb2fe5650d"
   },
   "outputs": [
    {
     "name": "stdout",
     "output_type": "stream",
     "text": [
      "        id  member_id  ...  emp_title_Driver  emp_title_Office Manager\n",
      "0  1077501    1296599  ...                 0                         0\n",
      "1  1077430    1314167  ...                 0                         0\n",
      "2  1077175    1313524  ...                 0                         0\n",
      "3  1076863    1277178  ...                 0                         0\n",
      "4  1075358    1311748  ...                 0                         0\n",
      "5  1075269    1311441  ...                 0                         0\n",
      "6  1069639    1304742  ...                 0                         0\n",
      "7  1072053    1288686  ...                 0                         0\n",
      "8  1071795    1306957  ...                 0                         0\n",
      "9  1071570    1306721  ...                 0                         0\n",
      "\n",
      "[10 rows x 62 columns]\n"
     ]
    }
   ],
   "source": [
    "print(x.head(10))"
   ]
  },
  {
   "cell_type": "code",
   "execution_count": 0,
   "metadata": {
    "colab": {},
    "colab_type": "code",
    "id": "d9OySnObpKlY"
   },
   "outputs": [],
   "source": [
    "one_hot_top(x,'title',top_10_2)\n",
    "one_hot_top(x,'desc',top_10_3)\n",
    "one_hot_top(x,'zip_code',top_10_4)"
   ]
  },
  {
   "cell_type": "code",
   "execution_count": 0,
   "metadata": {
    "colab": {
     "base_uri": "https://localhost:8080/",
     "height": 238
    },
    "colab_type": "code",
    "executionInfo": {
     "elapsed": 1101,
     "status": "ok",
     "timestamp": 1590990861721,
     "user": {
      "displayName": "Ningthoibi Devi",
      "photoUrl": "",
      "userId": "03298143199062643316"
     },
     "user_tz": -330
    },
    "id": "TEZfFBatpNyM",
    "outputId": "fbb00e99-7720-497f-96b3-8ed27865ef56"
   },
   "outputs": [
    {
     "name": "stdout",
     "output_type": "stream",
     "text": [
      "        id  member_id  ...  zip_code_900xx  zip_code_770xx\n",
      "0  1077501    1296599  ...               0               0\n",
      "1  1077430    1314167  ...               0               0\n",
      "2  1077175    1313524  ...               0               0\n",
      "3  1076863    1277178  ...               0               0\n",
      "4  1075358    1311748  ...               0               0\n",
      "5  1075269    1311441  ...               0               0\n",
      "6  1069639    1304742  ...               0               0\n",
      "7  1072053    1288686  ...               1               0\n",
      "8  1071795    1306957  ...               0               0\n",
      "9  1071570    1306721  ...               0               0\n",
      "\n",
      "[10 rows x 92 columns]\n"
     ]
    }
   ],
   "source": [
    "print(x.head(10))"
   ]
  },
  {
   "cell_type": "code",
   "execution_count": 0,
   "metadata": {
    "colab": {
     "base_uri": "https://localhost:8080/",
     "height": 1000
    },
    "colab_type": "code",
    "executionInfo": {
     "elapsed": 2638,
     "status": "ok",
     "timestamp": 1590990865479,
     "user": {
      "displayName": "Ningthoibi Devi",
      "photoUrl": "",
      "userId": "03298143199062643316"
     },
     "user_tz": -330
    },
    "id": "W1aQW3S2pRTP",
    "outputId": "f635f39d-7bd0-4c7f-debc-8f16fcf5778c"
   },
   "outputs": [
    {
     "name": "stdout",
     "output_type": "stream",
     "text": [
      "<class 'pandas.core.frame.DataFrame'>\n",
      "RangeIndex: 887379 entries, 0 to 887378\n",
      "Data columns (total 92 columns):\n",
      " #   Column                                                      Non-Null Count   Dtype  \n",
      "---  ------                                                      --------------   -----  \n",
      " 0   id                                                          887379 non-null  int64  \n",
      " 1   member_id                                                   887379 non-null  int64  \n",
      " 2   loan_amnt                                                   887379 non-null  int64  \n",
      " 3   funded_amnt                                                 887379 non-null  int64  \n",
      " 4   funded_amnt_inv                                             887379 non-null  float64\n",
      " 5   term                                                        887379 non-null  object \n",
      " 6   int_rate                                                    887379 non-null  float64\n",
      " 7   installment                                                 887379 non-null  float64\n",
      " 8   grade                                                       887379 non-null  object \n",
      " 9   sub_grade                                                   887379 non-null  object \n",
      " 10  emp_title                                                   835917 non-null  object \n",
      " 11  emp_length                                                  842554 non-null  object \n",
      " 12  home_ownership                                              887379 non-null  object \n",
      " 13  annual_inc                                                  887375 non-null  float64\n",
      " 14  verification_status                                         887379 non-null  object \n",
      " 15  issue_d                                                     887379 non-null  object \n",
      " 16  pymnt_plan                                                  887379 non-null  object \n",
      " 17  desc                                                        126028 non-null  object \n",
      " 18  purpose                                                     887379 non-null  object \n",
      " 19  title                                                       887227 non-null  object \n",
      " 20  zip_code                                                    887379 non-null  object \n",
      " 21  addr_state                                                  887379 non-null  object \n",
      " 22  dti                                                         887379 non-null  float64\n",
      " 23  delinq_2yrs                                                 887350 non-null  float64\n",
      " 24  earliest_cr_line                                            887350 non-null  object \n",
      " 25  inq_last_6mths                                              887350 non-null  float64\n",
      " 26  mths_since_last_delinq                                      433067 non-null  float64\n",
      " 27  mths_since_last_record                                      137053 non-null  float64\n",
      " 28  open_acc                                                    887350 non-null  float64\n",
      " 29  pub_rec                                                     887350 non-null  float64\n",
      " 30  revol_bal                                                   887379 non-null  int64  \n",
      " 31  revol_util                                                  886877 non-null  float64\n",
      " 32  total_acc                                                   887350 non-null  float64\n",
      " 33  initial_list_status                                         887379 non-null  object \n",
      " 34  out_prncp                                                   887379 non-null  float64\n",
      " 35  out_prncp_inv                                               887379 non-null  float64\n",
      " 36  total_pymnt                                                 887379 non-null  float64\n",
      " 37  total_pymnt_inv                                             887379 non-null  float64\n",
      " 38  total_rec_prncp                                             887379 non-null  float64\n",
      " 39  total_rec_int                                               887379 non-null  float64\n",
      " 40  total_rec_late_fee                                          887379 non-null  float64\n",
      " 41  recoveries                                                  887379 non-null  float64\n",
      " 42  collection_recovery_fee                                     887379 non-null  float64\n",
      " 43  last_pymnt_d                                                869720 non-null  object \n",
      " 44  last_pymnt_amnt                                             887379 non-null  float64\n",
      " 45  next_pymnt_d                                                634408 non-null  object \n",
      " 46  last_credit_pull_d                                          887326 non-null  object \n",
      " 47  collections_12_mths_ex_med                                  887234 non-null  float64\n",
      " 48  mths_since_last_major_derog                                 221703 non-null  float64\n",
      " 49  policy_code                                                 887379 non-null  int64  \n",
      " 50  application_type                                            887379 non-null  object \n",
      " 51  acc_now_delinq                                              887350 non-null  float64\n",
      " 52  emp_title_Teacher                                           887379 non-null  int64  \n",
      " 53  emp_title_Manager                                           887379 non-null  int64  \n",
      " 54  emp_title_Registered Nurse                                  887379 non-null  int64  \n",
      " 55  emp_title_Owner                                             887379 non-null  int64  \n",
      " 56  emp_title_RN                                                887379 non-null  int64  \n",
      " 57  emp_title_Supervisor                                        887379 non-null  int64  \n",
      " 58  emp_title_Sales                                             887379 non-null  int64  \n",
      " 59  emp_title_Project Manager                                   887379 non-null  int64  \n",
      " 60  emp_title_Driver                                            887379 non-null  int64  \n",
      " 61  emp_title_Office Manager                                    887379 non-null  int64  \n",
      " 62  title_Debt consolidation                                    887379 non-null  int64  \n",
      " 63  title_Credit card refinancing                               887379 non-null  int64  \n",
      " 64  title_Home improvement                                      887379 non-null  int64  \n",
      " 65  title_Other                                                 887379 non-null  int64  \n",
      " 66  title_Debt Consolidation                                    887379 non-null  int64  \n",
      " 67  title_Major purchase                                        887379 non-null  int64  \n",
      " 68  title_Business                                              887379 non-null  int64  \n",
      " 69  title_Medical expenses                                      887379 non-null  int64  \n",
      " 70  title_Car financing                                         887379 non-null  int64  \n",
      " 71  title_Consolidation                                         887379 non-null  int64  \n",
      " 72  desc_                                                       887379 non-null  int64  \n",
      " 73  desc_Debt Consolidation                                     887379 non-null  int64  \n",
      " 74  desc_  Borrower added on 03/17/14 > Debt consolidation<br>  887379 non-null  int64  \n",
      " 75  desc_  Borrower added on 03/10/14 > Debt consolidation<br>  887379 non-null  int64  \n",
      " 76  desc_  Borrower added on 02/19/14 > Debt consolidation<br>  887379 non-null  int64  \n",
      " 77  desc_Camping Membership                                     887379 non-null  int64  \n",
      " 78  desc_  Borrower added on 01/29/14 > Debt consolidation<br>  887379 non-null  int64  \n",
      " 79  desc_  Borrower added on 01/22/14 > Debt consolidation<br>  887379 non-null  int64  \n",
      " 80  desc_  Borrower added on 01/15/14 > Debt consolidation<br>  887379 non-null  int64  \n",
      " 81  desc_  Borrower added on 03/07/14 > Debt consolidation<br>  887379 non-null  int64  \n",
      " 82  zip_code_945xx                                              887379 non-null  int64  \n",
      " 83  zip_code_750xx                                              887379 non-null  int64  \n",
      " 84  zip_code_112xx                                              887379 non-null  int64  \n",
      " 85  zip_code_606xx                                              887379 non-null  int64  \n",
      " 86  zip_code_300xx                                              887379 non-null  int64  \n",
      " 87  zip_code_100xx                                              887379 non-null  int64  \n",
      " 88  zip_code_070xx                                              887379 non-null  int64  \n",
      " 89  zip_code_331xx                                              887379 non-null  int64  \n",
      " 90  zip_code_900xx                                              887379 non-null  int64  \n",
      " 91  zip_code_770xx                                              887379 non-null  int64  \n",
      "dtypes: float64(26), int64(46), object(20)\n",
      "memory usage: 622.9+ MB\n",
      "None\n"
     ]
    }
   ],
   "source": [
    "print(x.info())"
   ]
  },
  {
   "cell_type": "code",
   "execution_count": 0,
   "metadata": {
    "colab": {},
    "colab_type": "code",
    "id": "717pWP0upVA1"
   },
   "outputs": [],
   "source": [
    "dummy_list=['term','grade','sub_grade','emp_length','home_ownership','verification_status','issue_d','pymnt_plan','purpose','next_pymnt_d','earliest_cr_line','addr_state','initial_list_status','last_pymnt_d','last_credit_pull_d','application_type']"
   ]
  },
  {
   "cell_type": "code",
   "execution_count": 0,
   "metadata": {
    "colab": {},
    "colab_type": "code",
    "id": "O1x7BnBupX75"
   },
   "outputs": [],
   "source": [
    "def dummy_data(data,dummy_list):\n",
    "    for i in dummy_list:\n",
    "        dummies=pd.get_dummies(data[i],prefix=i,dummy_na=False,sparse=True)\n",
    "        data=data.drop(i,1)\n",
    "        data=pd.concat([data,dummies],axis=1)\n",
    "    return data"
   ]
  },
  {
   "cell_type": "code",
   "execution_count": 0,
   "metadata": {
    "colab": {
     "base_uri": "https://localhost:8080/",
     "height": 153
    },
    "colab_type": "code",
    "executionInfo": {
     "elapsed": 26383,
     "status": "ok",
     "timestamp": 1590990897818,
     "user": {
      "displayName": "Ningthoibi Devi",
      "photoUrl": "",
      "userId": "03298143199062643316"
     },
     "user_tz": -330
    },
    "id": "qys12er1parN",
    "outputId": "79026835-86dd-484a-e089-833670e9634d"
   },
   "outputs": [
    {
     "name": "stdout",
     "output_type": "stream",
     "text": [
      "        id  member_id  ...  application_type_INDIVIDUAL  application_type_JOINT\n",
      "0  1077501    1296599  ...                            1                       0\n",
      "1  1077430    1314167  ...                            1                       0\n",
      "2  1077175    1313524  ...                            1                       0\n",
      "3  1076863    1277178  ...                            1                       0\n",
      "4  1075358    1311748  ...                            1                       0\n",
      "\n",
      "[5 rows x 1312 columns]\n"
     ]
    }
   ],
   "source": [
    "x = dummy_data(x, dummy_list)\n",
    "print(x.head(5))"
   ]
  },
  {
   "cell_type": "code",
   "execution_count": 0,
   "metadata": {
    "colab": {
     "base_uri": "https://localhost:8080/",
     "height": 119
    },
    "colab_type": "code",
    "executionInfo": {
     "elapsed": 1607,
     "status": "ok",
     "timestamp": 1590990901308,
     "user": {
      "displayName": "Ningthoibi Devi",
      "photoUrl": "",
      "userId": "03298143199062643316"
     },
     "user_tz": -330
    },
    "id": "bo7uvs3NpdJ9",
    "outputId": "3356a68e-a926-4794-ebe9-cd9f6b71f942"
   },
   "outputs": [
    {
     "name": "stdout",
     "output_type": "stream",
     "text": [
      "<class 'pandas.core.frame.DataFrame'>\n",
      "RangeIndex: 887379 entries, 0 to 887378\n",
      "Columns: 1312 entries, id to application_type_JOINT\n",
      "dtypes: Sparse[uint8, 0](1236), float64(26), int64(46), object(4)\n",
      "memory usage: 580.7+ MB\n",
      "None\n"
     ]
    }
   ],
   "source": [
    "print(x.info())"
   ]
  },
  {
   "cell_type": "code",
   "execution_count": 0,
   "metadata": {
    "colab": {
     "base_uri": "https://localhost:8080/",
     "height": 85
    },
    "colab_type": "code",
    "executionInfo": {
     "elapsed": 1860,
     "status": "ok",
     "timestamp": 1590990905426,
     "user": {
      "displayName": "Ningthoibi Devi",
      "photoUrl": "",
      "userId": "03298143199062643316"
     },
     "user_tz": -330
    },
    "id": "GEylmpCIpmCv",
    "outputId": "7c77a434-6798-40ed-e4b3-17bdd29e5efb"
   },
   "outputs": [
    {
     "name": "stdout",
     "output_type": "stream",
     "text": [
      "Feature emp_title has 299270 unique categories\n",
      "Feature desc has 124470 unique categories\n",
      "Feature title has 63106 unique categories\n",
      "Feature zip_code has 935 unique categories\n"
     ]
    }
   ],
   "source": [
    "for col_name in x.columns:\n",
    "    if x[col_name].dtypes=='object':\n",
    "        unique_cat=len(x[col_name].unique())\n",
    "        print(\"Feature {col_name} has {unique_cat} unique categories\".format(col_name=col_name,unique_cat=unique_cat))"
   ]
  },
  {
   "cell_type": "code",
   "execution_count": 0,
   "metadata": {
    "colab": {},
    "colab_type": "code",
    "id": "2Yp8AZ5DpoWZ"
   },
   "outputs": [],
   "source": [
    "del x['emp_title']"
   ]
  },
  {
   "cell_type": "code",
   "execution_count": 0,
   "metadata": {
    "colab": {},
    "colab_type": "code",
    "id": "K8jIMGY0prMw"
   },
   "outputs": [],
   "source": [
    "del x['desc']"
   ]
  },
  {
   "cell_type": "code",
   "execution_count": 0,
   "metadata": {
    "colab": {},
    "colab_type": "code",
    "id": "TCGiBYwsptmT"
   },
   "outputs": [],
   "source": [
    "del x['title']"
   ]
  },
  {
   "cell_type": "code",
   "execution_count": 0,
   "metadata": {
    "colab": {},
    "colab_type": "code",
    "id": "HjzvxFaNpwAK"
   },
   "outputs": [],
   "source": [
    "del x['zip_code']"
   ]
  },
  {
   "cell_type": "code",
   "execution_count": 0,
   "metadata": {
    "colab": {
     "base_uri": "https://localhost:8080/",
     "height": 119
    },
    "colab_type": "code",
    "executionInfo": {
     "elapsed": 17587,
     "status": "ok",
     "timestamp": 1590990930774,
     "user": {
      "displayName": "Ningthoibi Devi",
      "photoUrl": "",
      "userId": "03298143199062643316"
     },
     "user_tz": -330
    },
    "id": "1nJfHXvNpyP7",
    "outputId": "6496b666-88e5-45b8-a945-3578d8910e16"
   },
   "outputs": [
    {
     "name": "stdout",
     "output_type": "stream",
     "text": [
      "<class 'pandas.core.frame.DataFrame'>\n",
      "RangeIndex: 887379 entries, 0 to 887378\n",
      "Columns: 1308 entries, id to application_type_JOINT\n",
      "dtypes: Sparse[uint8, 0](1236), float64(26), int64(46)\n",
      "memory usage: 553.6 MB\n",
      "None\n"
     ]
    }
   ],
   "source": [
    "print(x.info())"
   ]
  },
  {
   "cell_type": "code",
   "execution_count": 0,
   "metadata": {
    "colab": {},
    "colab_type": "code",
    "id": "eTLn-Dmep0bh"
   },
   "outputs": [],
   "source": [
    "x.isnull().sum().sort_values(ascending=False).head()"
   ]
  },
  {
   "cell_type": "code",
   "execution_count": 0,
   "metadata": {
    "colab": {},
    "colab_type": "code",
    "id": "OUP5Q_YRp25_"
   },
   "outputs": [],
   "source": [
    "from sklearn.impute import SimpleImputer\n",
    "import numpy as np\n",
    "imp=SimpleImputer(missing_values=np.nan,strategy='mean')\n"
   ]
  },
  {
   "cell_type": "code",
   "execution_count": 0,
   "metadata": {
    "colab": {
     "base_uri": "https://localhost:8080/",
     "height": 34
    },
    "colab_type": "code",
    "executionInfo": {
     "elapsed": 4514,
     "status": "ok",
     "timestamp": 1590992460099,
     "user": {
      "displayName": "Ningthoibi Devi",
      "photoUrl": "",
      "userId": "03298143199062643316"
     },
     "user_tz": -330
    },
    "id": "UQ6NrHn8XqoF",
    "outputId": "58d0dbd1-fddc-467a-a6d0-c6ab4b35ce16"
   },
   "outputs": [
    {
     "data": {
      "text/plain": [
       "(49999, 1308)"
      ]
     },
     "execution_count": 126,
     "metadata": {
      "tags": []
     },
     "output_type": "execute_result"
    }
   ],
   "source": [
    "x1=x[1:50000]\n",
    "y1=y[1:50000]\n",
    "x1.shape"
   ]
  },
  {
   "cell_type": "code",
   "execution_count": 0,
   "metadata": {
    "colab": {},
    "colab_type": "code",
    "id": "cODW2WKrVHOD"
   },
   "outputs": [],
   "source": [
    "imp.fit(x1)\n",
    "x1=pd.DataFrame(data=imp.transform(x1),columns=x1.columns)"
   ]
  },
  {
   "cell_type": "code",
   "execution_count": 0,
   "metadata": {
    "colab": {},
    "colab_type": "code",
    "id": "LtYAZBPijxQv"
   },
   "outputs": [],
   "source": [
    "x1.isnull().sum().sort_values(ascending=False).head()"
   ]
  },
  {
   "cell_type": "code",
   "execution_count": 0,
   "metadata": {
    "colab": {},
    "colab_type": "code",
    "id": "bj4-eox1j38S"
   },
   "outputs": [],
   "source": [
    "import sklearn\n",
    "from sklearn import preprocessing\n",
    "from sklearn.preprocessing import Normalizer"
   ]
  },
  {
   "cell_type": "code",
   "execution_count": 0,
   "metadata": {
    "colab": {},
    "colab_type": "code",
    "id": "oCjVFbggj6uO"
   },
   "outputs": [],
   "source": [
    "s_x=sklearn.preprocessing.normalize(x1,norm='l2',axis=1,copy=True,return_norm=False)"
   ]
  },
  {
   "cell_type": "code",
   "execution_count": 0,
   "metadata": {
    "colab": {},
    "colab_type": "code",
    "id": "e3kB6a1YDxbB"
   },
   "outputs": [],
   "source": [
    "from sklearn.linear_model import Lasso\n",
    "from sklearn.feature_selection import SelectFromModel"
   ]
  },
  {
   "cell_type": "code",
   "execution_count": 0,
   "metadata": {
    "colab": {},
    "colab_type": "code",
    "id": "sulE8-A0DxWg"
   },
   "outputs": [],
   "source": [
    "feature_sel_model=SelectFromModel(Lasso(alpha=0.005,random_state=0))\n"
   ]
  },
  {
   "cell_type": "code",
   "execution_count": 0,
   "metadata": {
    "colab": {
     "base_uri": "https://localhost:8080/",
     "height": 173
    },
    "colab_type": "code",
    "executionInfo": {
     "elapsed": 84298,
     "status": "ok",
     "timestamp": 1590992590739,
     "user": {
      "displayName": "Ningthoibi Devi",
      "photoUrl": "",
      "userId": "03298143199062643316"
     },
     "user_tz": -330
    },
    "id": "U00vgCFFO0L4",
    "outputId": "39ad49cc-8344-4015-a34f-969d9f46b0aa"
   },
   "outputs": [
    {
     "name": "stderr",
     "output_type": "stream",
     "text": [
      "/usr/local/lib/python3.6/dist-packages/sklearn/linear_model/_coordinate_descent.py:476: ConvergenceWarning: Objective did not converge. You might want to increase the number of iterations. Duality gap: 1721.236278207135, tolerance: 0.753745570911421\n",
      "  positive)\n"
     ]
    },
    {
     "data": {
      "text/plain": [
       "SelectFromModel(estimator=Lasso(alpha=0.005, copy_X=True, fit_intercept=True,\n",
       "                                max_iter=1000, normalize=False, positive=False,\n",
       "                                precompute=False, random_state=0,\n",
       "                                selection='cyclic', tol=0.0001,\n",
       "                                warm_start=False),\n",
       "                max_features=None, norm_order=1, prefit=False, threshold=None)"
      ]
     },
     "execution_count": 134,
     "metadata": {
      "tags": []
     },
     "output_type": "execute_result"
    }
   ],
   "source": [
    "feature_sel_model.fit(x1,y1)"
   ]
  },
  {
   "cell_type": "code",
   "execution_count": 0,
   "metadata": {
    "colab": {
     "base_uri": "https://localhost:8080/",
     "height": 34
    },
    "colab_type": "code",
    "executionInfo": {
     "elapsed": 1536,
     "status": "ok",
     "timestamp": 1590992719202,
     "user": {
      "displayName": "Ningthoibi Devi",
      "photoUrl": "",
      "userId": "03298143199062643316"
     },
     "user_tz": -330
    },
    "id": "ikk7vi5EDxCx",
    "outputId": "ddbc2301-321d-4f67-9fad-c7f23817b833"
   },
   "outputs": [
    {
     "data": {
      "text/plain": [
       "array([False, False, False, ..., False, False, False])"
      ]
     },
     "execution_count": 135,
     "metadata": {
      "tags": []
     },
     "output_type": "execute_result"
    }
   ],
   "source": [
    "feature_sel_model.get_support()"
   ]
  },
  {
   "cell_type": "code",
   "execution_count": 0,
   "metadata": {
    "colab": {},
    "colab_type": "code",
    "id": "wNJMshz2Rmpt"
   },
   "outputs": [],
   "source": [
    "x1train=pd.DataFrame(x1)"
   ]
  },
  {
   "cell_type": "code",
   "execution_count": 0,
   "metadata": {
    "colab": {
     "base_uri": "https://localhost:8080/",
     "height": 51
    },
    "colab_type": "code",
    "executionInfo": {
     "elapsed": 1722,
     "status": "ok",
     "timestamp": 1590993380965,
     "user": {
      "displayName": "Ningthoibi Devi",
      "photoUrl": "",
      "userId": "03298143199062643316"
     },
     "user_tz": -330
    },
    "id": "4T2LVNOkGHOA",
    "outputId": "c64038e1-ced6-474e-8455-56fbb2644409"
   },
   "outputs": [
    {
     "name": "stdout",
     "output_type": "stream",
     "text": [
      "total features:1308\n",
      "selected feature:19\n"
     ]
    }
   ],
   "source": [
    "selected_feat=x1train.columns[(feature_sel_model.get_support())]\n",
    "\n",
    "print('total features:{}'.format((x1train.shape[1])))\n",
    "print('selected feature:{}'.format(len(selected_feat)))\n",
    "#print('features with coefficients shrank to zero={}'.format(np.sum(sel_.estimator_.coef_==0)))\n"
   ]
  },
  {
   "cell_type": "code",
   "execution_count": 0,
   "metadata": {
    "colab": {
     "base_uri": "https://localhost:8080/",
     "height": 136
    },
    "colab_type": "code",
    "executionInfo": {
     "elapsed": 1360,
     "status": "ok",
     "timestamp": 1590992724663,
     "user": {
      "displayName": "Ningthoibi Devi",
      "photoUrl": "",
      "userId": "03298143199062643316"
     },
     "user_tz": -330
    },
    "id": "aGE-HqZnGG7R",
    "outputId": "613bad95-ecdd-4097-91a7-31fb5fd4cca8"
   },
   "outputs": [
    {
     "data": {
      "text/plain": [
       "Index(['funded_amnt', 'funded_amnt_inv', 'int_rate', 'installment', 'dti',\n",
       "       'inq_last_6mths', 'mths_since_last_delinq', 'mths_since_last_record',\n",
       "       'revol_util', 'total_acc', 'out_prncp', 'total_pymnt',\n",
       "       'total_pymnt_inv', 'total_rec_prncp', 'total_rec_int',\n",
       "       'total_rec_late_fee', 'recoveries', 'collection_recovery_fee',\n",
       "       'mths_since_last_major_derog'],\n",
       "      dtype='object')"
      ]
     },
     "execution_count": 138,
     "metadata": {
      "tags": []
     },
     "output_type": "execute_result"
    }
   ],
   "source": [
    "selected_feat"
   ]
  },
  {
   "cell_type": "code",
   "execution_count": 0,
   "metadata": {
    "colab": {},
    "colab_type": "code",
    "id": "wpbFEyJkZR0N"
   },
   "outputs": [],
   "source": [
    "x1train=x1train[selected_feat]"
   ]
  },
  {
   "cell_type": "code",
   "execution_count": 0,
   "metadata": {
    "colab": {
     "base_uri": "https://localhost:8080/",
     "height": 34
    },
    "colab_type": "code",
    "executionInfo": {
     "elapsed": 1749,
     "status": "ok",
     "timestamp": 1590993400826,
     "user": {
      "displayName": "Ningthoibi Devi",
      "photoUrl": "",
      "userId": "03298143199062643316"
     },
     "user_tz": -330
    },
    "id": "DgcmHBKqbqnv",
    "outputId": "724daf59-9f73-48ed-ea16-71a6de12c448"
   },
   "outputs": [
    {
     "data": {
      "text/plain": [
       "(49998, 19)"
      ]
     },
     "execution_count": 191,
     "metadata": {
      "tags": []
     },
     "output_type": "execute_result"
    }
   ],
   "source": [
    "x1train.shape"
   ]
  },
  {
   "cell_type": "code",
   "execution_count": 0,
   "metadata": {
    "colab": {
     "base_uri": "https://localhost:8080/",
     "height": 119
    },
    "colab_type": "code",
    "executionInfo": {
     "elapsed": 1631,
     "status": "ok",
     "timestamp": 1590993406322,
     "user": {
      "displayName": "Ningthoibi Devi",
      "photoUrl": "",
      "userId": "03298143199062643316"
     },
     "user_tz": -330
    },
    "id": "jZtox5qgkAwv",
    "outputId": "3916b8d5-a1a0-4a55-fd6c-072ef24fca58"
   },
   "outputs": [
    {
     "data": {
      "text/plain": [
       "mths_since_last_major_derog    0\n",
       "revol_util                     0\n",
       "funded_amnt_inv                0\n",
       "int_rate                       0\n",
       "installment                    0\n",
       "dtype: int64"
      ]
     },
     "execution_count": 192,
     "metadata": {
      "tags": []
     },
     "output_type": "execute_result"
    }
   ],
   "source": [
    "\n",
    "x1train.isnull().sum().sort_values(ascending=False).head()"
   ]
  },
  {
   "cell_type": "code",
   "execution_count": 0,
   "metadata": {
    "colab": {
     "base_uri": "https://localhost:8080/",
     "height": 34
    },
    "colab_type": "code",
    "executionInfo": {
     "elapsed": 953,
     "status": "ok",
     "timestamp": 1590954054128,
     "user": {
      "displayName": "Ningthoibi Devi",
      "photoUrl": "",
      "userId": "03298143199062643316"
     },
     "user_tz": -330
    },
    "id": "MsC082-HkUtb",
    "outputId": "145ab250-ed33-4a81-b05c-ecf2b1256347"
   },
   "outputs": [
    {
     "data": {
      "text/plain": [
       "array([1, 0, 1, ..., 1, 1, 1])"
      ]
     },
     "execution_count": 54,
     "metadata": {
      "tags": []
     },
     "output_type": "execute_result"
    }
   ],
   "source": [
    "y=y.values\n",
    "y"
   ]
  },
  {
   "cell_type": "code",
   "execution_count": 0,
   "metadata": {
    "colab": {
     "base_uri": "https://localhost:8080/",
     "height": 163
    },
    "colab_type": "code",
    "executionInfo": {
     "elapsed": 1417,
     "status": "error",
     "timestamp": 1590957638621,
     "user": {
      "displayName": "Ningthoibi Devi",
      "photoUrl": "",
      "userId": "03298143199062643316"
     },
     "user_tz": -330
    },
    "id": "zIYT9SlhzJ4q",
    "outputId": "eb4808e4-9ae5-455e-e139-9e02bf54eb13"
   },
   "outputs": [
    {
     "ename": "AttributeError",
     "evalue": "ignored",
     "output_type": "error",
     "traceback": [
      "\u001b[0;31m---------------------------------------------------------------------------\u001b[0m",
      "\u001b[0;31mAttributeError\u001b[0m                            Traceback (most recent call last)",
      "\u001b[0;32m<ipython-input-78-28d3f1548110>\u001b[0m in \u001b[0;36m<module>\u001b[0;34m()\u001b[0m\n\u001b[0;32m----> 1\u001b[0;31m \u001b[0mx1train1\u001b[0m\u001b[0;34m.\u001b[0m\u001b[0misnull\u001b[0m\u001b[0;34m(\u001b[0m\u001b[0;34m)\u001b[0m\u001b[0;34m.\u001b[0m\u001b[0msum\u001b[0m\u001b[0;34m(\u001b[0m\u001b[0;34m)\u001b[0m\u001b[0;34m.\u001b[0m\u001b[0msort_values\u001b[0m\u001b[0;34m(\u001b[0m\u001b[0mascending\u001b[0m\u001b[0;34m=\u001b[0m\u001b[0;32mFalse\u001b[0m\u001b[0;34m)\u001b[0m\u001b[0;34m.\u001b[0m\u001b[0mhead\u001b[0m\u001b[0;34m(\u001b[0m\u001b[0;34m)\u001b[0m\u001b[0;34m\u001b[0m\u001b[0;34m\u001b[0m\u001b[0m\n\u001b[0m",
      "\u001b[0;31mAttributeError\u001b[0m: 'numpy.ndarray' object has no attribute 'isnull'"
     ]
    }
   ],
   "source": [
    "x1train1.isnull().sum().sort_values(ascending=False).head()"
   ]
  },
  {
   "cell_type": "code",
   "execution_count": 0,
   "metadata": {
    "colab": {},
    "colab_type": "code",
    "id": "cvl79EqRzPn4"
   },
   "outputs": [],
   "source": [
    "x11=x1train.to_numpy()"
   ]
  },
  {
   "cell_type": "code",
   "execution_count": 0,
   "metadata": {
    "colab": {},
    "colab_type": "code",
    "id": "zIx2IAjhcHik"
   },
   "outputs": [],
   "source": [
    "y11=y1.to_numpy()"
   ]
  },
  {
   "cell_type": "code",
   "execution_count": 0,
   "metadata": {
    "colab": {
     "base_uri": "https://localhost:8080/",
     "height": 34
    },
    "colab_type": "code",
    "executionInfo": {
     "elapsed": 1546,
     "status": "ok",
     "timestamp": 1590993432762,
     "user": {
      "displayName": "Ningthoibi Devi",
      "photoUrl": "",
      "userId": "03298143199062643316"
     },
     "user_tz": -330
    },
    "id": "_UcSXwZ2kYpM",
    "outputId": "af23ddac-b31b-4f2e-fbdc-555ee85caa2d"
   },
   "outputs": [
    {
     "name": "stdout",
     "output_type": "stream",
     "text": [
      "StratifiedKFold(n_splits=2, random_state=None, shuffle=False)\n"
     ]
    }
   ],
   "source": [
    "from sklearn.model_selection import StratifiedKFold\n",
    "accuracy=[]\n",
    "skf=StratifiedKFold(n_splits=2)\n",
    "skf.get_n_splits(x1,y1)\n",
    "print(skf)"
   ]
  },
  {
   "cell_type": "code",
   "execution_count": 0,
   "metadata": {
    "colab": {
     "base_uri": "https://localhost:8080/",
     "height": 51
    },
    "colab_type": "code",
    "executionInfo": {
     "elapsed": 1181,
     "status": "ok",
     "timestamp": 1590993434743,
     "user": {
      "displayName": "Ningthoibi Devi",
      "photoUrl": "",
      "userId": "03298143199062643316"
     },
     "user_tz": -330
    },
    "id": "QTCsN9PXkZds",
    "outputId": "0802c8c4-87fb-45a5-a570-a40b8adc1878"
   },
   "outputs": [
    {
     "name": "stdout",
     "output_type": "stream",
     "text": [
      "Train: [23942 23943 23944 ... 49995 49996 49997] Test: [    0     1     2 ... 31742 31755 31758]\n",
      "Train: [    0     1     2 ... 31742 31755 31758] Test: [23942 23943 23944 ... 49995 49996 49997]\n"
     ]
    }
   ],
   "source": [
    "for train_index,test_index in skf.split(x11,y11):\n",
    "    print('Train:',train_index,'Test:',test_index)\n",
    "    X1_train,X1_test=x11[train_index],x11[test_index]\n",
    "    y1_train,y1_test=y11[train_index],y11[test_index]\n",
    "    \n"
   ]
  },
  {
   "cell_type": "code",
   "execution_count": 0,
   "metadata": {
    "colab": {},
    "colab_type": "code",
    "id": "MSSr7GTD8S-U"
   },
   "outputs": [],
   "source": [
    "import keras\n",
    "from keras.models import Sequential\n",
    "from keras.layers import Dense,Activation,Embedding,LeakyReLU,BatchNormalization,Flatten\n",
    "from keras.optimizers import Adam\n",
    "from keras.activations import relu,sigmoid"
   ]
  },
  {
   "cell_type": "code",
   "execution_count": 0,
   "metadata": {
    "colab": {},
    "colab_type": "code",
    "id": "_cX-8ZIxDyAE"
   },
   "outputs": [],
   "source": [
    "from keras.wrappers.scikit_learn import KerasClassifier\n",
    "from sklearn.model_selection import GridSearchCV\n",
    "from sklearn.base import clone"
   ]
  },
  {
   "cell_type": "code",
   "execution_count": 0,
   "metadata": {
    "colab": {},
    "colab_type": "code",
    "id": "QQX4x0BmDxsM"
   },
   "outputs": [],
   "source": [
    "def create_model(layers,activation):\n",
    "  model=Sequential()\n",
    "  for i,nodes in enumerate(layers):\n",
    "    if i==0:\n",
    "      model.add(Dense(nodes,input_dim=26))\n",
    "      model.add(Activation(activation))\n",
    "    else:\n",
    "      model.add(Dense(nodes))\n",
    "      model.add(Activation(activation))\n",
    "  model.add(Dense(units=2,activation='softmax'))\n",
    "  model.compile(Adam(lr=0.001),loss=\"sparse_categorical_crossentropy\",metrics=[\"accuracy\"])\n",
    "  return model\n",
    "\n"
   ]
  },
  {
   "cell_type": "code",
   "execution_count": 0,
   "metadata": {
    "colab": {},
    "colab_type": "code",
    "id": "nNI5JX13Sf45"
   },
   "outputs": [],
   "source": [
    "model=KerasClassifier(build_fn=create_model,verbose=0)\n",
    "#clone(model)"
   ]
  },
  {
   "cell_type": "code",
   "execution_count": 0,
   "metadata": {
    "colab": {},
    "colab_type": "code",
    "id": "Pt73om_UDxTw"
   },
   "outputs": [],
   "source": [
    "layers=[(20,),(40,20),(45,30,15)]\n",
    "batch_size = [10, 20, 40, 60, 80, 100]\n",
    "epochs = [10, 50, 100]\n",
    "activations=['sigmoid','relu']\n",
    "param_grid=dict(layers=layers,activation=activations,batch_size=batch_size,epochs=epochs)\n",
    "grid=GridSearchCV(estimator=model,param_grid=param_grid)\n",
    "\n"
   ]
  },
  {
   "cell_type": "code",
   "execution_count": 0,
   "metadata": {
    "colab": {
     "base_uri": "https://localhost:8080/",
     "height": 163
    },
    "colab_type": "code",
    "executionInfo": {
     "elapsed": 1615,
     "status": "error",
     "timestamp": 1590991821841,
     "user": {
      "displayName": "Ningthoibi Devi",
      "photoUrl": "",
      "userId": "03298143199062643316"
     },
     "user_tz": -330
    },
    "id": "RyTiAvA-MCgz",
    "outputId": "77c6b7b2-3c91-4a40-c5a0-67588cc9cb5f"
   },
   "outputs": [
    {
     "ename": "NameError",
     "evalue": "ignored",
     "output_type": "error",
     "traceback": [
      "\u001b[0;31m---------------------------------------------------------------------------\u001b[0m",
      "\u001b[0;31mNameError\u001b[0m                                 Traceback (most recent call last)",
      "\u001b[0;32m<ipython-input-123-cd1d453b43b0>\u001b[0m in \u001b[0;36m<module>\u001b[0;34m()\u001b[0m\n\u001b[0;32m----> 1\u001b[0;31m \u001b[0mgrid_result\u001b[0m\u001b[0;34m=\u001b[0m\u001b[0mgrid\u001b[0m\u001b[0;34m.\u001b[0m\u001b[0mfit\u001b[0m\u001b[0;34m(\u001b[0m\u001b[0mX1_train\u001b[0m\u001b[0;34m,\u001b[0m\u001b[0my1_train\u001b[0m\u001b[0;34m)\u001b[0m\u001b[0;34m\u001b[0m\u001b[0;34m\u001b[0m\u001b[0m\n\u001b[0m",
      "\u001b[0;31mNameError\u001b[0m: name 'grid' is not defined"
     ]
    }
   ],
   "source": [
    "grid_result=grid.fit(X1_train,y1_train)\n"
   ]
  },
  {
   "cell_type": "code",
   "execution_count": 0,
   "metadata": {
    "colab": {
     "base_uri": "https://localhost:8080/",
     "height": 102
    },
    "colab_type": "code",
    "executionInfo": {
     "elapsed": 547210,
     "status": "ok",
     "timestamp": 1590983948396,
     "user": {
      "displayName": "Ningthoibi Devi",
      "photoUrl": "",
      "userId": "03298143199062643316"
     },
     "user_tz": -330
    },
    "id": "Zx4M9eqQMCLX",
    "outputId": "484546fb-2062-437b-881a-b3429cb02e54"
   },
   "outputs": [
    {
     "data": {
      "text/plain": [
       "[1.0,\n",
       " {'activation': 'relu',\n",
       "  'batch_size': 20,\n",
       "  'epochs': 100,\n",
       "  'layers': (45, 30, 15)}]"
      ]
     },
     "execution_count": 86,
     "metadata": {
      "tags": []
     },
     "output_type": "execute_result"
    }
   ],
   "source": [
    "[grid_result.best_score_,grid_result.best_params_]"
   ]
  },
  {
   "cell_type": "code",
   "execution_count": 0,
   "metadata": {
    "colab": {
     "base_uri": "https://localhost:8080/",
     "height": 34
    },
    "colab_type": "code",
    "executionInfo": {
     "elapsed": 1304,
     "status": "ok",
     "timestamp": 1590938066551,
     "user": {
      "displayName": "Ningthoibi Devi",
      "photoUrl": "",
      "userId": "03298143199062643316"
     },
     "user_tz": -330
    },
    "id": "bsREnbtm52sh",
    "outputId": "93d8641d-69e2-4109-fa33-2ed439e522fb"
   },
   "outputs": [
    {
     "data": {
      "text/plain": [
       "<keras.engine.sequential.Sequential at 0x7f6644aa7cf8>"
      ]
     },
     "execution_count": 117,
     "metadata": {
      "tags": []
     },
     "output_type": "execute_result"
    }
   ],
   "source": [
    "create_model((45,30,15),'relu')"
   ]
  },
  {
   "cell_type": "code",
   "execution_count": 0,
   "metadata": {
    "colab": {},
    "colab_type": "code",
    "id": "Z-79FkgGSHkO"
   },
   "outputs": [],
   "source": [
    "import keras\n",
    "from keras.models import Sequential"
   ]
  },
  {
   "cell_type": "code",
   "execution_count": 0,
   "metadata": {
    "colab": {
     "base_uri": "https://localhost:8080/",
     "height": 255
    },
    "colab_type": "code",
    "executionInfo": {
     "elapsed": 1695,
     "status": "ok",
     "timestamp": 1590993453625,
     "user": {
      "displayName": "Ningthoibi Devi",
      "photoUrl": "",
      "userId": "03298143199062643316"
     },
     "user_tz": -330
    },
    "id": "pXRni1VwyF2R",
    "outputId": "aac03a05-c47e-464d-b0fa-8fe47a0a6b70"
   },
   "outputs": [
    {
     "name": "stdout",
     "output_type": "stream",
     "text": [
      "Model: \"sequential_7\"\n",
      "_________________________________________________________________\n",
      "Layer (type)                 Output Shape              Param #   \n",
      "=================================================================\n",
      "dense_19 (Dense)             (None, 16)                320       \n",
      "_________________________________________________________________\n",
      "dense_20 (Dense)             (None, 3)                 51        \n",
      "_________________________________________________________________\n",
      "dense_21 (Dense)             (None, 2)                 8         \n",
      "=================================================================\n",
      "Total params: 379\n",
      "Trainable params: 379\n",
      "Non-trainable params: 0\n",
      "_________________________________________________________________\n"
     ]
    }
   ],
   "source": [
    "model1=Sequential([Dense(16,input_dim=19,activation=\"relu\"),Dense(3,activation=\"relu\"),Dense(2,activation=\"softmax\")])\n",
    "model1.compile(Adam(lr=0.001),loss=\"sparse_categorical_crossentropy\",metrics=[\"accuracy\"])\n",
    "model1.summary()"
   ]
  },
  {
   "cell_type": "code",
   "execution_count": 0,
   "metadata": {
    "colab": {},
    "colab_type": "code",
    "id": "iEt08JkEysqT"
   },
   "outputs": [],
   "source": [
    "model1.fit(X1_train,y1_train ,validation_split=0.1,batch_size=20 ,epochs=100)\n"
   ]
  },
  {
   "cell_type": "code",
   "execution_count": 0,
   "metadata": {
    "colab": {},
    "colab_type": "code",
    "id": "9RwmaChbbqrE"
   },
   "outputs": [],
   "source": [
    "predictions=model1.predict(X1_test,batch_size=20,verbose=0)"
   ]
  },
  {
   "cell_type": "code",
   "execution_count": 0,
   "metadata": {
    "colab": {
     "base_uri": "https://localhost:8080/",
     "height": 34
    },
    "colab_type": "code",
    "executionInfo": {
     "elapsed": 2131,
     "status": "ok",
     "timestamp": 1590992951540,
     "user": {
      "displayName": "Ningthoibi Devi",
      "photoUrl": "",
      "userId": "03298143199062643316"
     },
     "user_tz": -330
    },
    "id": "yo4UwYgQzOVg",
    "outputId": "bfeb94dc-13e0-4b04-b053-d162a62041ec"
   },
   "outputs": [
    {
     "data": {
      "text/plain": [
       "array([1, 1, 1, ..., 1, 1, 1])"
      ]
     },
     "execution_count": 157,
     "metadata": {
      "tags": []
     },
     "output_type": "execute_result"
    }
   ],
   "source": [
    "rounded_predictions=model1.predict_classes(X1_test,batch_size=10,verbose=0)\n",
    "rounded_predictions"
   ]
  },
  {
   "cell_type": "code",
   "execution_count": 0,
   "metadata": {
    "colab": {
     "base_uri": "https://localhost:8080/",
     "height": 1000
    },
    "colab_type": "code",
    "executionInfo": {
     "elapsed": 1611,
     "status": "ok",
     "timestamp": 1590991358933,
     "user": {
      "displayName": "Ningthoibi Devi",
      "photoUrl": "",
      "userId": "03298143199062643316"
     },
     "user_tz": -330
    },
    "id": "ipDv2sx4WwGm",
    "outputId": "da48c6b7-e280-4013-9f40-827c79a4d4df"
   },
   "outputs": [
    {
     "data": {
      "text/plain": [
       "array([[6.03432804e-02, 9.39656734e-01],\n",
       "       [6.03432804e-02, 9.39656734e-01],\n",
       "       [6.03432804e-02, 9.39656734e-01],\n",
       "       [1.00000000e+00, 7.69375915e-22],\n",
       "       [6.03432804e-02, 9.39656734e-01],\n",
       "       [6.03432804e-02, 9.39656734e-01],\n",
       "       [6.03432804e-02, 9.39656734e-01],\n",
       "       [6.03432804e-02, 9.39656734e-01],\n",
       "       [6.03432804e-02, 9.39656734e-01],\n",
       "       [6.03432804e-02, 9.39656734e-01],\n",
       "       [6.03432804e-02, 9.39656734e-01],\n",
       "       [6.03432804e-02, 9.39656734e-01],\n",
       "       [1.00000000e+00, 0.00000000e+00],\n",
       "       [6.03432804e-02, 9.39656734e-01],\n",
       "       [6.03432804e-02, 9.39656734e-01],\n",
       "       [6.03432804e-02, 9.39656734e-01],\n",
       "       [6.03432804e-02, 9.39656734e-01],\n",
       "       [6.03432804e-02, 9.39656734e-01],\n",
       "       [6.03432804e-02, 9.39656734e-01],\n",
       "       [6.03432804e-02, 9.39656734e-01],\n",
       "       [6.03432804e-02, 9.39656734e-01],\n",
       "       [1.00000000e+00, 1.09485050e-31],\n",
       "       [6.03432804e-02, 9.39656734e-01],\n",
       "       [6.03432804e-02, 9.39656734e-01],\n",
       "       [9.99999404e-01, 5.49388574e-07],\n",
       "       [6.03432804e-02, 9.39656734e-01],\n",
       "       [6.03432804e-02, 9.39656734e-01],\n",
       "       [6.03432804e-02, 9.39656734e-01],\n",
       "       [6.03432804e-02, 9.39656734e-01],\n",
       "       [6.03432804e-02, 9.39656734e-01],\n",
       "       [1.00000000e+00, 2.08743280e-08],\n",
       "       [6.03432804e-02, 9.39656734e-01],\n",
       "       [9.53799903e-01, 4.62001637e-02],\n",
       "       [6.03432804e-02, 9.39656734e-01],\n",
       "       [6.03432804e-02, 9.39656734e-01],\n",
       "       [1.00000000e+00, 2.42238833e-08],\n",
       "       [6.03432804e-02, 9.39656734e-01],\n",
       "       [1.00000000e+00, 1.09149560e-12],\n",
       "       [6.03432804e-02, 9.39656734e-01],\n",
       "       [1.00000000e+00, 2.77064082e-20],\n",
       "       [6.03432804e-02, 9.39656734e-01],\n",
       "       [6.03432804e-02, 9.39656734e-01],\n",
       "       [6.03432804e-02, 9.39656734e-01],\n",
       "       [6.03432804e-02, 9.39656734e-01],\n",
       "       [1.00000000e+00, 0.00000000e+00],\n",
       "       [1.00000000e+00, 1.42487399e-24],\n",
       "       [6.03432804e-02, 9.39656734e-01],\n",
       "       [6.03432804e-02, 9.39656734e-01],\n",
       "       [6.03432804e-02, 9.39656734e-01],\n",
       "       [6.03432804e-02, 9.39656734e-01],\n",
       "       [6.03432804e-02, 9.39656734e-01],\n",
       "       [6.03432804e-02, 9.39656734e-01],\n",
       "       [6.03432804e-02, 9.39656734e-01],\n",
       "       [6.03432804e-02, 9.39656734e-01],\n",
       "       [6.03432804e-02, 9.39656734e-01],\n",
       "       [6.03432804e-02, 9.39656734e-01],\n",
       "       [6.03432804e-02, 9.39656734e-01],\n",
       "       [1.00000000e+00, 2.03839232e-24],\n",
       "       [1.00000000e+00, 0.00000000e+00],\n",
       "       [6.03432804e-02, 9.39656734e-01],\n",
       "       [6.03432804e-02, 9.39656734e-01],\n",
       "       [6.74213052e-01, 3.25786948e-01],\n",
       "       [6.03432804e-02, 9.39656734e-01],\n",
       "       [6.03432804e-02, 9.39656734e-01],\n",
       "       [6.03432804e-02, 9.39656734e-01],\n",
       "       [6.03432804e-02, 9.39656734e-01],\n",
       "       [6.03432804e-02, 9.39656734e-01],\n",
       "       [1.00000000e+00, 9.10263851e-16],\n",
       "       [1.00000000e+00, 3.08118955e-17],\n",
       "       [6.03432804e-02, 9.39656734e-01],\n",
       "       [6.03432804e-02, 9.39656734e-01],\n",
       "       [6.03432804e-02, 9.39656734e-01],\n",
       "       [1.00000000e+00, 9.63707433e-30],\n",
       "       [6.03432804e-02, 9.39656734e-01],\n",
       "       [6.03432804e-02, 9.39656734e-01],\n",
       "       [6.03432804e-02, 9.39656734e-01],\n",
       "       [6.03432804e-02, 9.39656734e-01],\n",
       "       [6.03432804e-02, 9.39656734e-01],\n",
       "       [1.00000000e+00, 1.07605660e-23],\n",
       "       [9.99957681e-01, 4.23251258e-05],\n",
       "       [6.03432804e-02, 9.39656734e-01],\n",
       "       [9.99999881e-01, 1.46271603e-07],\n",
       "       [6.03432804e-02, 9.39656734e-01],\n",
       "       [6.03432804e-02, 9.39656734e-01],\n",
       "       [6.03432804e-02, 9.39656734e-01],\n",
       "       [6.03432804e-02, 9.39656734e-01],\n",
       "       [9.92825031e-01, 7.17492495e-03],\n",
       "       [1.00000000e+00, 2.59982964e-12],\n",
       "       [6.03432804e-02, 9.39656734e-01],\n",
       "       [6.03432804e-02, 9.39656734e-01],\n",
       "       [6.03432804e-02, 9.39656734e-01],\n",
       "       [6.03432804e-02, 9.39656734e-01],\n",
       "       [1.00000000e+00, 0.00000000e+00],\n",
       "       [6.03432804e-02, 9.39656734e-01],\n",
       "       [6.03432804e-02, 9.39656734e-01],\n",
       "       [1.00000000e+00, 0.00000000e+00],\n",
       "       [6.03432804e-02, 9.39656734e-01],\n",
       "       [1.00000000e+00, 9.75256273e-24],\n",
       "       [6.03432804e-02, 9.39656734e-01],\n",
       "       [9.50336635e-01, 4.96633723e-02],\n",
       "       [1.00000000e+00, 2.46093932e-23],\n",
       "       [6.03432804e-02, 9.39656734e-01],\n",
       "       [6.03432804e-02, 9.39656734e-01],\n",
       "       [6.03432804e-02, 9.39656734e-01],\n",
       "       [6.03432804e-02, 9.39656734e-01],\n",
       "       [6.03432804e-02, 9.39656734e-01],\n",
       "       [6.03432804e-02, 9.39656734e-01],\n",
       "       [6.03432804e-02, 9.39656734e-01],\n",
       "       [6.03432804e-02, 9.39656734e-01],\n",
       "       [6.03432804e-02, 9.39656734e-01],\n",
       "       [6.03432804e-02, 9.39656734e-01],\n",
       "       [6.03432804e-02, 9.39656734e-01],\n",
       "       [6.03432804e-02, 9.39656734e-01],\n",
       "       [6.03432804e-02, 9.39656734e-01],\n",
       "       [1.00000000e+00, 1.46002620e-11],\n",
       "       [6.03432804e-02, 9.39656734e-01],\n",
       "       [1.00000000e+00, 5.55266215e-11],\n",
       "       [6.03432804e-02, 9.39656734e-01],\n",
       "       [1.00000000e+00, 6.60838562e-24],\n",
       "       [6.03432804e-02, 9.39656734e-01],\n",
       "       [6.03432804e-02, 9.39656734e-01],\n",
       "       [1.00000000e+00, 4.26557242e-16],\n",
       "       [6.03432804e-02, 9.39656734e-01],\n",
       "       [1.00000000e+00, 0.00000000e+00],\n",
       "       [6.03432804e-02, 9.39656734e-01],\n",
       "       [6.03432804e-02, 9.39656734e-01],\n",
       "       [6.03432804e-02, 9.39656734e-01],\n",
       "       [6.03432804e-02, 9.39656734e-01],\n",
       "       [6.03432804e-02, 9.39656734e-01],\n",
       "       [6.03432804e-02, 9.39656734e-01],\n",
       "       [1.00000000e+00, 0.00000000e+00],\n",
       "       [6.03432804e-02, 9.39656734e-01],\n",
       "       [6.03432804e-02, 9.39656734e-01],\n",
       "       [6.03432804e-02, 9.39656734e-01],\n",
       "       [6.03432804e-02, 9.39656734e-01],\n",
       "       [1.00000000e+00, 0.00000000e+00],\n",
       "       [6.03432804e-02, 9.39656734e-01],\n",
       "       [6.03432804e-02, 9.39656734e-01],\n",
       "       [6.03432804e-02, 9.39656734e-01],\n",
       "       [6.03432804e-02, 9.39656734e-01],\n",
       "       [6.03432804e-02, 9.39656734e-01],\n",
       "       [1.00000000e+00, 7.22895765e-25],\n",
       "       [6.03432804e-02, 9.39656734e-01],\n",
       "       [6.03432804e-02, 9.39656734e-01],\n",
       "       [6.03432804e-02, 9.39656734e-01],\n",
       "       [6.03432804e-02, 9.39656734e-01],\n",
       "       [6.03432804e-02, 9.39656734e-01],\n",
       "       [6.03432804e-02, 9.39656734e-01],\n",
       "       [1.00000000e+00, 5.16669584e-18],\n",
       "       [6.03432804e-02, 9.39656734e-01],\n",
       "       [6.03432804e-02, 9.39656734e-01],\n",
       "       [6.03432804e-02, 9.39656734e-01],\n",
       "       [6.03432804e-02, 9.39656734e-01],\n",
       "       [6.03432804e-02, 9.39656734e-01],\n",
       "       [6.03432804e-02, 9.39656734e-01],\n",
       "       [1.00000000e+00, 0.00000000e+00],\n",
       "       [6.03432804e-02, 9.39656734e-01],\n",
       "       [6.03432804e-02, 9.39656734e-01],\n",
       "       [6.03432804e-02, 9.39656734e-01],\n",
       "       [6.03432804e-02, 9.39656734e-01],\n",
       "       [6.03432804e-02, 9.39656734e-01],\n",
       "       [6.03432804e-02, 9.39656734e-01],\n",
       "       [6.03432804e-02, 9.39656734e-01],\n",
       "       [6.03432804e-02, 9.39656734e-01],\n",
       "       [6.03432804e-02, 9.39656734e-01],\n",
       "       [6.03432804e-02, 9.39656734e-01],\n",
       "       [6.03432804e-02, 9.39656734e-01],\n",
       "       [6.03432804e-02, 9.39656734e-01],\n",
       "       [6.03432804e-02, 9.39656734e-01],\n",
       "       [6.03432804e-02, 9.39656734e-01],\n",
       "       [6.03432804e-02, 9.39656734e-01],\n",
       "       [6.03432804e-02, 9.39656734e-01],\n",
       "       [6.03432804e-02, 9.39656734e-01],\n",
       "       [6.03432804e-02, 9.39656734e-01],\n",
       "       [6.03432804e-02, 9.39656734e-01],\n",
       "       [6.03432804e-02, 9.39656734e-01],\n",
       "       [6.03432804e-02, 9.39656734e-01],\n",
       "       [6.03432804e-02, 9.39656734e-01],\n",
       "       [6.03432804e-02, 9.39656734e-01],\n",
       "       [6.03432804e-02, 9.39656734e-01],\n",
       "       [6.03432804e-02, 9.39656734e-01],\n",
       "       [6.03432804e-02, 9.39656734e-01],\n",
       "       [6.03432804e-02, 9.39656734e-01],\n",
       "       [6.03432804e-02, 9.39656734e-01],\n",
       "       [6.03432804e-02, 9.39656734e-01],\n",
       "       [6.03432804e-02, 9.39656734e-01],\n",
       "       [6.03432804e-02, 9.39656734e-01],\n",
       "       [6.03432804e-02, 9.39656734e-01],\n",
       "       [1.00000000e+00, 6.98991573e-17],\n",
       "       [6.03432804e-02, 9.39656734e-01],\n",
       "       [6.03432804e-02, 9.39656734e-01],\n",
       "       [6.03432804e-02, 9.39656734e-01],\n",
       "       [1.00000000e+00, 2.57349023e-15],\n",
       "       [9.98361290e-01, 1.63875869e-03],\n",
       "       [6.03432804e-02, 9.39656734e-01],\n",
       "       [6.03432804e-02, 9.39656734e-01],\n",
       "       [6.03432804e-02, 9.39656734e-01],\n",
       "       [6.03432804e-02, 9.39656734e-01],\n",
       "       [1.00000000e+00, 2.18128772e-14],\n",
       "       [6.03432804e-02, 9.39656734e-01],\n",
       "       [1.00000000e+00, 2.72958617e-16],\n",
       "       [6.03432804e-02, 9.39656734e-01],\n",
       "       [6.03432804e-02, 9.39656734e-01],\n",
       "       [6.03432804e-02, 9.39656734e-01],\n",
       "       [6.03432804e-02, 9.39656734e-01],\n",
       "       [6.03432804e-02, 9.39656734e-01],\n",
       "       [6.03432804e-02, 9.39656734e-01],\n",
       "       [6.03432804e-02, 9.39656734e-01],\n",
       "       [6.03432804e-02, 9.39656734e-01],\n",
       "       [6.03432804e-02, 9.39656734e-01],\n",
       "       [6.03432804e-02, 9.39656734e-01],\n",
       "       [6.03432804e-02, 9.39656734e-01],\n",
       "       [6.03432804e-02, 9.39656734e-01],\n",
       "       [6.03432804e-02, 9.39656734e-01],\n",
       "       [6.03432804e-02, 9.39656734e-01],\n",
       "       [6.03432804e-02, 9.39656734e-01],\n",
       "       [6.03432804e-02, 9.39656734e-01],\n",
       "       [6.03432804e-02, 9.39656734e-01],\n",
       "       [6.03432804e-02, 9.39656734e-01],\n",
       "       [6.03432804e-02, 9.39656734e-01],\n",
       "       [6.03432804e-02, 9.39656734e-01],\n",
       "       [6.03432804e-02, 9.39656734e-01],\n",
       "       [6.03432804e-02, 9.39656734e-01],\n",
       "       [6.03432804e-02, 9.39656734e-01],\n",
       "       [6.03432804e-02, 9.39656734e-01],\n",
       "       [6.03432804e-02, 9.39656734e-01],\n",
       "       [9.74725664e-01, 2.52743345e-02],\n",
       "       [6.03432804e-02, 9.39656734e-01],\n",
       "       [6.03432804e-02, 9.39656734e-01],\n",
       "       [1.00000000e+00, 5.38004292e-17],\n",
       "       [6.03432804e-02, 9.39656734e-01],\n",
       "       [9.99997497e-01, 2.52815175e-06],\n",
       "       [6.03432804e-02, 9.39656734e-01],\n",
       "       [6.03432804e-02, 9.39656734e-01],\n",
       "       [6.03432804e-02, 9.39656734e-01],\n",
       "       [6.03432804e-02, 9.39656734e-01],\n",
       "       [6.03432804e-02, 9.39656734e-01],\n",
       "       [1.00000000e+00, 4.23117119e-29],\n",
       "       [6.03432804e-02, 9.39656734e-01],\n",
       "       [6.03432804e-02, 9.39656734e-01],\n",
       "       [6.03432804e-02, 9.39656734e-01],\n",
       "       [6.03432804e-02, 9.39656734e-01],\n",
       "       [6.03432804e-02, 9.39656734e-01],\n",
       "       [6.03432804e-02, 9.39656734e-01],\n",
       "       [6.03432804e-02, 9.39656734e-01],\n",
       "       [6.03432804e-02, 9.39656734e-01],\n",
       "       [6.03432804e-02, 9.39656734e-01],\n",
       "       [6.03432804e-02, 9.39656734e-01],\n",
       "       [6.03432804e-02, 9.39656734e-01],\n",
       "       [6.03432804e-02, 9.39656734e-01],\n",
       "       [1.00000000e+00, 2.46569150e-25],\n",
       "       [6.03432804e-02, 9.39656734e-01],\n",
       "       [6.03432804e-02, 9.39656734e-01],\n",
       "       [6.03432804e-02, 9.39656734e-01],\n",
       "       [1.00000000e+00, 0.00000000e+00],\n",
       "       [6.03432804e-02, 9.39656734e-01],\n",
       "       [6.03432804e-02, 9.39656734e-01],\n",
       "       [6.03432804e-02, 9.39656734e-01],\n",
       "       [6.03432804e-02, 9.39656734e-01],\n",
       "       [6.03432804e-02, 9.39656734e-01],\n",
       "       [6.03432804e-02, 9.39656734e-01],\n",
       "       [6.03432804e-02, 9.39656734e-01],\n",
       "       [6.03432804e-02, 9.39656734e-01],\n",
       "       [6.03432804e-02, 9.39656734e-01],\n",
       "       [6.03432804e-02, 9.39656734e-01],\n",
       "       [1.00000000e+00, 0.00000000e+00],\n",
       "       [6.03432804e-02, 9.39656734e-01],\n",
       "       [6.03432804e-02, 9.39656734e-01],\n",
       "       [6.03432804e-02, 9.39656734e-01],\n",
       "       [6.03432804e-02, 9.39656734e-01],\n",
       "       [6.03432804e-02, 9.39656734e-01],\n",
       "       [1.00000000e+00, 0.00000000e+00],\n",
       "       [6.03432804e-02, 9.39656734e-01],\n",
       "       [6.03432804e-02, 9.39656734e-01],\n",
       "       [6.03432804e-02, 9.39656734e-01],\n",
       "       [6.03432804e-02, 9.39656734e-01],\n",
       "       [6.03432804e-02, 9.39656734e-01],\n",
       "       [6.03432804e-02, 9.39656734e-01],\n",
       "       [6.03432804e-02, 9.39656734e-01],\n",
       "       [1.00000000e+00, 2.05933430e-28],\n",
       "       [6.03432804e-02, 9.39656734e-01],\n",
       "       [6.03432804e-02, 9.39656734e-01],\n",
       "       [1.00000000e+00, 1.36122719e-25],\n",
       "       [1.00000000e+00, 3.04064228e-14],\n",
       "       [6.03432804e-02, 9.39656734e-01],\n",
       "       [6.03432804e-02, 9.39656734e-01],\n",
       "       [6.03432804e-02, 9.39656734e-01],\n",
       "       [6.03432804e-02, 9.39656734e-01],\n",
       "       [6.03432804e-02, 9.39656734e-01],\n",
       "       [6.03432804e-02, 9.39656734e-01],\n",
       "       [6.03432804e-02, 9.39656734e-01],\n",
       "       [6.03432804e-02, 9.39656734e-01],\n",
       "       [6.03432804e-02, 9.39656734e-01],\n",
       "       [9.99975204e-01, 2.47649550e-05],\n",
       "       [6.03432804e-02, 9.39656734e-01],\n",
       "       [6.03432804e-02, 9.39656734e-01],\n",
       "       [1.00000000e+00, 1.31787138e-12],\n",
       "       [1.00000000e+00, 2.49547808e-34],\n",
       "       [6.03432804e-02, 9.39656734e-01],\n",
       "       [6.03432804e-02, 9.39656734e-01],\n",
       "       [1.00000000e+00, 1.46216256e-24],\n",
       "       [6.03432804e-02, 9.39656734e-01],\n",
       "       [6.03432804e-02, 9.39656734e-01],\n",
       "       [6.03432804e-02, 9.39656734e-01],\n",
       "       [6.03432804e-02, 9.39656734e-01],\n",
       "       [6.03432804e-02, 9.39656734e-01],\n",
       "       [6.03432804e-02, 9.39656734e-01],\n",
       "       [1.00000000e+00, 0.00000000e+00],\n",
       "       [6.03432804e-02, 9.39656734e-01],\n",
       "       [6.03432804e-02, 9.39656734e-01],\n",
       "       [6.03432804e-02, 9.39656734e-01],\n",
       "       [6.03432804e-02, 9.39656734e-01],\n",
       "       [6.03432804e-02, 9.39656734e-01],\n",
       "       [6.03432804e-02, 9.39656734e-01],\n",
       "       [6.03432804e-02, 9.39656734e-01],\n",
       "       [6.03432804e-02, 9.39656734e-01],\n",
       "       [6.03432804e-02, 9.39656734e-01],\n",
       "       [9.99996066e-01, 3.91919912e-06],\n",
       "       [6.03432804e-02, 9.39656734e-01],\n",
       "       [1.00000000e+00, 7.97791661e-19],\n",
       "       [6.03432804e-02, 9.39656734e-01],\n",
       "       [6.03432804e-02, 9.39656734e-01],\n",
       "       [6.03432804e-02, 9.39656734e-01],\n",
       "       [6.03432804e-02, 9.39656734e-01],\n",
       "       [6.03432804e-02, 9.39656734e-01],\n",
       "       [6.03432804e-02, 9.39656734e-01],\n",
       "       [6.03432804e-02, 9.39656734e-01],\n",
       "       [6.03432804e-02, 9.39656734e-01],\n",
       "       [1.00000000e+00, 2.79689500e-25],\n",
       "       [6.03432804e-02, 9.39656734e-01],\n",
       "       [6.03432804e-02, 9.39656734e-01],\n",
       "       [6.03432804e-02, 9.39656734e-01],\n",
       "       [1.00000000e+00, 1.67139919e-29],\n",
       "       [6.03432804e-02, 9.39656734e-01],\n",
       "       [6.03432804e-02, 9.39656734e-01],\n",
       "       [6.03432804e-02, 9.39656734e-01],\n",
       "       [1.00000000e+00, 0.00000000e+00],\n",
       "       [6.03432804e-02, 9.39656734e-01],\n",
       "       [1.00000000e+00, 7.73384232e-13],\n",
       "       [6.03432804e-02, 9.39656734e-01],\n",
       "       [6.03432804e-02, 9.39656734e-01],\n",
       "       [6.03432804e-02, 9.39656734e-01],\n",
       "       [6.03432804e-02, 9.39656734e-01],\n",
       "       [1.00000000e+00, 1.70765705e-22],\n",
       "       [6.03432804e-02, 9.39656734e-01],\n",
       "       [1.00000000e+00, 1.00219165e-16],\n",
       "       [6.03432804e-02, 9.39656734e-01],\n",
       "       [6.03432804e-02, 9.39656734e-01],\n",
       "       [6.03432804e-02, 9.39656734e-01],\n",
       "       [6.03432804e-02, 9.39656734e-01],\n",
       "       [6.03432804e-02, 9.39656734e-01],\n",
       "       [6.03432804e-02, 9.39656734e-01],\n",
       "       [6.03432804e-02, 9.39656734e-01],\n",
       "       [6.03432804e-02, 9.39656734e-01],\n",
       "       [6.03432804e-02, 9.39656734e-01],\n",
       "       [6.03432804e-02, 9.39656734e-01],\n",
       "       [6.03432804e-02, 9.39656734e-01],\n",
       "       [6.03432804e-02, 9.39656734e-01],\n",
       "       [6.03432804e-02, 9.39656734e-01],\n",
       "       [6.03432804e-02, 9.39656734e-01],\n",
       "       [6.03432804e-02, 9.39656734e-01],\n",
       "       [6.03432804e-02, 9.39656734e-01],\n",
       "       [6.03432804e-02, 9.39656734e-01],\n",
       "       [6.03432804e-02, 9.39656734e-01],\n",
       "       [6.03432804e-02, 9.39656734e-01],\n",
       "       [6.03432804e-02, 9.39656734e-01],\n",
       "       [6.03432804e-02, 9.39656734e-01],\n",
       "       [6.03432804e-02, 9.39656734e-01],\n",
       "       [6.03432804e-02, 9.39656734e-01],\n",
       "       [6.03432804e-02, 9.39656734e-01],\n",
       "       [6.03432804e-02, 9.39656734e-01],\n",
       "       [6.03432804e-02, 9.39656734e-01],\n",
       "       [6.03432804e-02, 9.39656734e-01],\n",
       "       [6.03432804e-02, 9.39656734e-01],\n",
       "       [9.93558705e-01, 6.44136174e-03],\n",
       "       [6.03432804e-02, 9.39656734e-01],\n",
       "       [6.03432804e-02, 9.39656734e-01],\n",
       "       [6.03432804e-02, 9.39656734e-01],\n",
       "       [6.03432804e-02, 9.39656734e-01],\n",
       "       [6.03432804e-02, 9.39656734e-01],\n",
       "       [6.03432804e-02, 9.39656734e-01],\n",
       "       [9.97293174e-01, 2.70678126e-03],\n",
       "       [6.03432804e-02, 9.39656734e-01],\n",
       "       [6.03432804e-02, 9.39656734e-01],\n",
       "       [6.03432804e-02, 9.39656734e-01],\n",
       "       [6.03432804e-02, 9.39656734e-01],\n",
       "       [6.03432804e-02, 9.39656734e-01],\n",
       "       [1.00000000e+00, 1.34987129e-18],\n",
       "       [6.03432804e-02, 9.39656734e-01],\n",
       "       [6.03432804e-02, 9.39656734e-01],\n",
       "       [6.03432804e-02, 9.39656734e-01],\n",
       "       [6.03432804e-02, 9.39656734e-01],\n",
       "       [1.00000000e+00, 7.04681172e-16],\n",
       "       [6.03432804e-02, 9.39656734e-01],\n",
       "       [6.03432804e-02, 9.39656734e-01],\n",
       "       [6.03432804e-02, 9.39656734e-01],\n",
       "       [6.03432804e-02, 9.39656734e-01],\n",
       "       [6.03432804e-02, 9.39656734e-01],\n",
       "       [6.03432804e-02, 9.39656734e-01],\n",
       "       [6.03432804e-02, 9.39656734e-01],\n",
       "       [6.03432804e-02, 9.39656734e-01],\n",
       "       [6.03432804e-02, 9.39656734e-01],\n",
       "       [6.03432804e-02, 9.39656734e-01],\n",
       "       [6.03432804e-02, 9.39656734e-01],\n",
       "       [6.03432804e-02, 9.39656734e-01],\n",
       "       [6.03432804e-02, 9.39656734e-01],\n",
       "       [6.03432804e-02, 9.39656734e-01],\n",
       "       [6.03432804e-02, 9.39656734e-01],\n",
       "       [6.03432804e-02, 9.39656734e-01],\n",
       "       [1.00000000e+00, 6.61019026e-12],\n",
       "       [9.99995708e-01, 4.27135592e-06],\n",
       "       [6.03432804e-02, 9.39656734e-01],\n",
       "       [6.03432804e-02, 9.39656734e-01],\n",
       "       [6.03432804e-02, 9.39656734e-01],\n",
       "       [1.00000000e+00, 7.59266295e-25],\n",
       "       [6.03432804e-02, 9.39656734e-01],\n",
       "       [9.99999762e-01, 2.25926740e-07],\n",
       "       [6.03432804e-02, 9.39656734e-01],\n",
       "       [6.03432804e-02, 9.39656734e-01],\n",
       "       [6.03432804e-02, 9.39656734e-01],\n",
       "       [6.03432804e-02, 9.39656734e-01],\n",
       "       [6.03432804e-02, 9.39656734e-01],\n",
       "       [6.03432804e-02, 9.39656734e-01],\n",
       "       [6.03432804e-02, 9.39656734e-01],\n",
       "       [6.03432804e-02, 9.39656734e-01],\n",
       "       [6.03432804e-02, 9.39656734e-01],\n",
       "       [1.00000000e+00, 3.47517819e-26],\n",
       "       [6.03432804e-02, 9.39656734e-01],\n",
       "       [6.03432804e-02, 9.39656734e-01],\n",
       "       [6.03432804e-02, 9.39656734e-01],\n",
       "       [1.00000000e+00, 2.11368762e-34],\n",
       "       [6.03432804e-02, 9.39656734e-01],\n",
       "       [6.03432804e-02, 9.39656734e-01],\n",
       "       [6.03432804e-02, 9.39656734e-01],\n",
       "       [6.03432804e-02, 9.39656734e-01],\n",
       "       [1.00000000e+00, 2.99025712e-16],\n",
       "       [6.03432804e-02, 9.39656734e-01],\n",
       "       [9.94268060e-01, 5.73188718e-03],\n",
       "       [6.03432804e-02, 9.39656734e-01],\n",
       "       [6.03432804e-02, 9.39656734e-01],\n",
       "       [6.03432804e-02, 9.39656734e-01],\n",
       "       [6.03432804e-02, 9.39656734e-01],\n",
       "       [6.03432804e-02, 9.39656734e-01],\n",
       "       [6.03432804e-02, 9.39656734e-01],\n",
       "       [6.03432804e-02, 9.39656734e-01],\n",
       "       [6.03432804e-02, 9.39656734e-01],\n",
       "       [1.00000000e+00, 4.69010550e-32],\n",
       "       [6.03432804e-02, 9.39656734e-01],\n",
       "       [6.03432804e-02, 9.39656734e-01],\n",
       "       [6.03432804e-02, 9.39656734e-01],\n",
       "       [1.97953463e-01, 8.02046537e-01],\n",
       "       [6.03432804e-02, 9.39656734e-01],\n",
       "       [6.03432804e-02, 9.39656734e-01],\n",
       "       [6.03432804e-02, 9.39656734e-01],\n",
       "       [1.00000000e+00, 2.14470708e-33],\n",
       "       [6.03432804e-02, 9.39656734e-01],\n",
       "       [6.03432804e-02, 9.39656734e-01],\n",
       "       [6.03432804e-02, 9.39656734e-01],\n",
       "       [6.03432804e-02, 9.39656734e-01],\n",
       "       [6.03432804e-02, 9.39656734e-01],\n",
       "       [6.03432804e-02, 9.39656734e-01],\n",
       "       [1.00000000e+00, 2.06681280e-26],\n",
       "       [6.03432804e-02, 9.39656734e-01],\n",
       "       [6.03432804e-02, 9.39656734e-01],\n",
       "       [6.03432804e-02, 9.39656734e-01],\n",
       "       [6.03432804e-02, 9.39656734e-01],\n",
       "       [6.03432804e-02, 9.39656734e-01],\n",
       "       [9.99999642e-01, 3.66687289e-07],\n",
       "       [6.03432804e-02, 9.39656734e-01],\n",
       "       [6.03432804e-02, 9.39656734e-01],\n",
       "       [6.03432804e-02, 9.39656734e-01],\n",
       "       [1.00000000e+00, 1.75907414e-10],\n",
       "       [6.03432804e-02, 9.39656734e-01],\n",
       "       [6.03432804e-02, 9.39656734e-01],\n",
       "       [6.03432804e-02, 9.39656734e-01],\n",
       "       [1.00000000e+00, 3.12698063e-08],\n",
       "       [6.03432804e-02, 9.39656734e-01],\n",
       "       [6.03432804e-02, 9.39656734e-01],\n",
       "       [6.03432804e-02, 9.39656734e-01],\n",
       "       [3.00853282e-01, 6.99146688e-01],\n",
       "       [6.03432804e-02, 9.39656734e-01],\n",
       "       [6.03432804e-02, 9.39656734e-01],\n",
       "       [6.03432804e-02, 9.39656734e-01],\n",
       "       [6.03432804e-02, 9.39656734e-01],\n",
       "       [1.00000000e+00, 1.98447624e-25],\n",
       "       [6.03432804e-02, 9.39656734e-01],\n",
       "       [6.03432804e-02, 9.39656734e-01],\n",
       "       [6.03432804e-02, 9.39656734e-01],\n",
       "       [6.03432804e-02, 9.39656734e-01],\n",
       "       [6.03432804e-02, 9.39656734e-01],\n",
       "       [6.03432804e-02, 9.39656734e-01],\n",
       "       [6.03432804e-02, 9.39656734e-01],\n",
       "       [6.03432804e-02, 9.39656734e-01],\n",
       "       [6.03432804e-02, 9.39656734e-01],\n",
       "       [6.03432804e-02, 9.39656734e-01],\n",
       "       [6.03432804e-02, 9.39656734e-01],\n",
       "       [6.03432804e-02, 9.39656734e-01],\n",
       "       [6.03432804e-02, 9.39656734e-01],\n",
       "       [6.03432804e-02, 9.39656734e-01]], dtype=float32)"
      ]
     },
     "execution_count": 100,
     "metadata": {
      "tags": []
     },
     "output_type": "execute_result"
    }
   ],
   "source": [
    "predictions"
   ]
  },
  {
   "cell_type": "code",
   "execution_count": 0,
   "metadata": {
    "colab": {},
    "colab_type": "code",
    "id": "fCGnBy8PWzD6"
   },
   "outputs": [],
   "source": [
    "from sklearn.metrics import confusion_matrix\n",
    "from sklearn.metrics import classification_report"
   ]
  },
  {
   "cell_type": "code",
   "execution_count": 0,
   "metadata": {
    "colab": {
     "base_uri": "https://localhost:8080/",
     "height": 224
    },
    "colab_type": "code",
    "executionInfo": {
     "elapsed": 967,
     "status": "ok",
     "timestamp": 1590993097488,
     "user": {
      "displayName": "Ningthoibi Devi",
      "photoUrl": "",
      "userId": "03298143199062643316"
     },
     "user_tz": -330
    },
    "id": "R_dg1tTMlNcl",
    "outputId": "c28bf3fe-f7cf-421c-db49-c581f8e76d34"
   },
   "outputs": [
    {
     "name": "stdout",
     "output_type": "stream",
     "text": [
      "              precision    recall  f1-score   support\n",
      "\n",
      "       risky       0.00      0.00      0.00       778\n",
      "   non_risky       0.84      1.00      0.92      4221\n",
      "\n",
      "    accuracy                           0.84      4999\n",
      "   macro avg       0.42      0.50      0.46      4999\n",
      "weighted avg       0.71      0.84      0.77      4999\n",
      "\n"
     ]
    },
    {
     "name": "stderr",
     "output_type": "stream",
     "text": [
      "/usr/local/lib/python3.6/dist-packages/sklearn/metrics/_classification.py:1272: UndefinedMetricWarning: Precision and F-score are ill-defined and being set to 0.0 in labels with no predicted samples. Use `zero_division` parameter to control this behavior.\n",
      "  _warn_prf(average, modifier, msg_start, len(result))\n"
     ]
    }
   ],
   "source": [
    "target_names=['risky','non_risky']\n",
    "print(classification_report(y1_test,rounded_predictions,target_names=target_names))\n"
   ]
  },
  {
   "cell_type": "code",
   "execution_count": 0,
   "metadata": {
    "colab": {
     "base_uri": "https://localhost:8080/",
     "height": 51
    },
    "colab_type": "code",
    "executionInfo": {
     "elapsed": 1651,
     "status": "ok",
     "timestamp": 1590993101964,
     "user": {
      "displayName": "Ningthoibi Devi",
      "photoUrl": "",
      "userId": "03298143199062643316"
     },
     "user_tz": -330
    },
    "id": "aJiuh1ael1dz",
    "outputId": "2a0005bc-f214-4ac7-fd26-31711337f5c2"
   },
   "outputs": [
    {
     "name": "stdout",
     "output_type": "stream",
     "text": [
      "[[   0  778]\n",
      " [   0 4221]]\n"
     ]
    }
   ],
   "source": [
    "print(confusion_matrix(y1_test,rounded_predictions))"
   ]
  }
 ],
 "metadata": {
  "accelerator": "TPU",
  "colab": {
   "collapsed_sections": [],
   "machine_shape": "hm",
   "name": "Mini.ipynb",
   "provenance": []
  },
  "kernelspec": {
   "display_name": "Python 3",
   "language": "python",
   "name": "python3"
  },
  "language_info": {
   "codemirror_mode": {
    "name": "ipython",
    "version": 3
   },
   "file_extension": ".py",
   "mimetype": "text/x-python",
   "name": "python",
   "nbconvert_exporter": "python",
   "pygments_lexer": "ipython3",
   "version": "3.7.1"
  }
 },
 "nbformat": 4,
 "nbformat_minor": 1
}
